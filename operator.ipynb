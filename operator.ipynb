{
 "cells": [
  {
   "cell_type": "markdown",
   "id": "97ef0660",
   "metadata": {},
   "source": [
    "# arithmetic operator"
   ]
  },
  {
   "cell_type": "code",
   "execution_count": null,
   "id": "11e5873a",
   "metadata": {},
   "outputs": [
    {
     "name": "stdout",
     "output_type": "stream",
     "text": [
      "13\n",
      "7\n",
      "30\n",
      "3.3333333333333335\n",
      "3\n",
      "1\n",
      "1000\n"
     ]
    }
   ],
   "source": [
    "a=10\n",
    "b=3\n",
    "print(a+b) # Addition\n",
    "print(a-b) # Subtraction\n",
    "print(a*b) # Multiplication \n",
    "print(a/b) # Floating point division\n",
    "print(a//b)  # Integer division\n",
    "print(a%b)   # Modulus\n",
    "print(a**b)  # Exponentiation"
   ]
  },
  {
   "cell_type": "markdown",
   "id": "7df9ec38",
   "metadata": {},
   "source": [
    "\n",
    "# assignment operator"
   ]
  },
  {
   "cell_type": "code",
   "execution_count": 8,
   "id": "2535e29e",
   "metadata": {},
   "outputs": [
    {
     "name": "stdout",
     "output_type": "stream",
     "text": [
      "16.0\n",
      "13.0\n",
      "39.0\n",
      "13.0\n",
      "4.0\n",
      "1.0\n",
      "1.0\n"
     ]
    }
   ],
   "source": [
    "a=13\n",
    "a+= 3.0 # Augmented addition\n",
    "print(a)  \n",
    "a-= 3.0 # Augmented subtraction\n",
    "print(a)\n",
    "a*= 3.0 # Augmented multiplication\n",
    "print(a)\n",
    "a/= 3.0 # Augmented division\n",
    "print(a)\n",
    "a//= 3.0 # Augmented integer division\n",
    "print(a)\n",
    "a%= 3.0 # Augmented modulus\n",
    "print(a)\n",
    "a**= 3.0 # Augmented exponentiation\n",
    "print(a)"
   ]
  },
  {
   "cell_type": "markdown",
   "id": "bdcc63d4",
   "metadata": {},
   "source": [
    "# logical operator"
   ]
  },
  {
   "cell_type": "code",
   "execution_count": 9,
   "id": "12486c3c",
   "metadata": {},
   "outputs": [
    {
     "name": "stdout",
     "output_type": "stream",
     "text": [
      "1.0\n",
      "3\n"
     ]
    },
    {
     "data": {
      "text/plain": [
       "False"
      ]
     },
     "execution_count": 9,
     "metadata": {},
     "output_type": "execute_result"
    }
   ],
   "source": [
    "print(a)\n",
    "print(b)\n",
    "c=5\n",
    "a>b and b>c"
   ]
  },
  {
   "cell_type": "markdown",
   "id": "d72128ca",
   "metadata": {},
   "source": [
    " # identity operator"
   ]
  },
  {
   "cell_type": "code",
   "execution_count": 11,
   "id": "fcea4969",
   "metadata": {},
   "outputs": [
    {
     "data": {
      "text/plain": [
       "True"
      ]
     },
     "execution_count": 11,
     "metadata": {},
     "output_type": "execute_result"
    }
   ],
   "source": [
    "a=20\n",
    "b=6\n",
    "a is b\n",
    "a is not b"
   ]
  },
  {
   "cell_type": "markdown",
   "id": "4f60ec8f",
   "metadata": {},
   "source": [
    "## membership operator"
   ]
  },
  {
   "cell_type": "code",
   "execution_count": 13,
   "id": "f3b8587b",
   "metadata": {},
   "outputs": [
    {
     "data": {
      "text/plain": [
       "False"
      ]
     },
     "execution_count": 13,
     "metadata": {},
     "output_type": "execute_result"
    }
   ],
   "source": [
    "a=[1, 2, 3,10]\n",
    "10 in a\n",
    "10 not in a"
   ]
  },
  {
   "cell_type": "markdown",
   "id": "5ccf41d0",
   "metadata": {},
   "source": [
    "## bitwise operator"
   ]
  },
  {
   "cell_type": "code",
   "execution_count": 2,
   "id": "087c84a3",
   "metadata": {},
   "outputs": [
    {
     "name": "stdout",
     "output_type": "stream",
     "text": [
      "1\n"
     ]
    }
   ],
   "source": [
    "a=5\n",
    "b=3\n",
    "print(a&b)  # Bitwise AND\n"
   ]
  },
  {
   "cell_type": "markdown",
   "id": "6bbb8994",
   "metadata": {},
   "source": [
    "## Comparison operator"
   ]
  },
  {
   "cell_type": "code",
   "execution_count": 3,
   "id": "5b368dcc",
   "metadata": {},
   "outputs": [
    {
     "name": "stdout",
     "output_type": "stream",
     "text": [
      "True\n",
      "False\n"
     ]
    }
   ],
   "source": [
    "a=5\n",
    "b=3\n",
    "print(a > b)  # Greater than\n",
    "print(a < b)  # Less than"
   ]
  }
 ],
 "metadata": {
  "kernelspec": {
   "display_name": "base",
   "language": "python",
   "name": "python3"
  },
  "language_info": {
   "codemirror_mode": {
    "name": "ipython",
    "version": 3
   },
   "file_extension": ".py",
   "mimetype": "text/x-python",
   "name": "python",
   "nbconvert_exporter": "python",
   "pygments_lexer": "ipython3",
   "version": "3.13.2"
  }
 },
 "nbformat": 4,
 "nbformat_minor": 5
}
