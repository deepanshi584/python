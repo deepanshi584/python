{
 "cells": [
  {
   "cell_type": "markdown",
   "id": "4529b9c4",
   "metadata": {},
   "source": [
    "#  multiple condition"
   ]
  },
  {
   "cell_type": "markdown",
   "id": "ba7f2085",
   "metadata": {},
   "source": [
    "### if"
   ]
  },
  {
   "cell_type": "code",
   "execution_count": 4,
   "id": "e2fba0a4",
   "metadata": {},
   "outputs": [
    {
     "name": "stdout",
     "output_type": "stream",
     "text": [
      "A\n"
     ]
    }
   ],
   "source": [
    "marks=85\n",
    "if marks >= 90:\n",
    "    print(\"A+\")\n",
    "if marks >= 80 and marks < 90:\n",
    "    print(\"A\")\n",
    "if marks >= 70 and marks < 80:\n",
    "    print(\"B\")\n",
    "if marks >= 60 and marks < 70:\n",
    "    print(\"C\")\n",
    "if marks >= 50 and marks < 60:\n",
    "    print(\"D\")\n",
    "if marks < 50:\n",
    "    print(\"Fail\")\n"
   ]
  },
  {
   "cell_type": "markdown",
   "id": "4f5cb0f4",
   "metadata": {},
   "source": [
    "### elif"
   ]
  },
  {
   "cell_type": "code",
   "execution_count": 8,
   "id": "70853e39",
   "metadata": {},
   "outputs": [
    {
     "name": "stdout",
     "output_type": "stream",
     "text": [
      "Fail\n"
     ]
    }
   ],
   "source": [
    "marks=30\n",
    "if marks >= 90:\n",
    "    print(\"A+\")\n",
    "elif marks >= 80 and marks < 90:\n",
    "    print(\"A\")\n",
    "elif marks >= 70 and marks < 80:\n",
    "    print(\"B\")\n",
    "elif marks >= 60 and marks < 70:\n",
    "    print(\"C\")\n",
    "elif marks >= 50 and marks < 60:\n",
    "    print(\"D\")\n",
    "elif marks < 50:\n",
    "    print(\"Fail\")\n",
    "else:\n",
    "    print(\"Invalid marks\")"
   ]
  },
  {
   "cell_type": "markdown",
   "id": "d746d7a5",
   "metadata": {},
   "source": [
    "### check if the given number is even or odd\n"
   ]
  },
  {
   "cell_type": "code",
   "execution_count": 1,
   "id": "8708ce08",
   "metadata": {},
   "outputs": [
    {
     "name": "stdout",
     "output_type": "stream",
     "text": [
      "Even\n"
     ]
    }
   ],
   "source": [
    "num=input(\"Enter a number: \")\n",
    "if num.isdigit():\n",
    "    num=int(num)\n",
    "    if num % 2 == 0:\n",
    "        print(\"Even\")\n",
    "    else:\n",
    "        print(\"Odd\")"
   ]
  },
  {
   "cell_type": "markdown",
   "id": "9940fa6b",
   "metadata": {},
   "source": [
    "### check the given number is prime or not"
   ]
  },
  {
   "cell_type": "code",
   "execution_count": null,
   "id": "b969f74e",
   "metadata": {},
   "outputs": [
    {
     "name": "stdout",
     "output_type": "stream",
     "text": [
      "2 is a prime number\n"
     ]
    }
   ],
   "source": [
    "num = int(input(\"Enter a number: \"))\n",
    "if num > 1:\n",
    "    for i in range(2, num):\n",
    "        if (num % i) == 0:\n",
    "            print(num, \"is composite number\")\n",
    "            break\n",
    "    else:\n",
    "        print(num, \"is a prime number\")"
   ]
  },
  {
   "cell_type": "markdown",
   "id": "369ed330",
   "metadata": {},
   "source": [
    "### check the given character is vowel or consonent"
   ]
  },
  {
   "cell_type": "code",
   "execution_count": 5,
   "id": "fb6d17ed",
   "metadata": {},
   "outputs": [
    {
     "name": "stdout",
     "output_type": "stream",
     "text": [
      "the given character is a consonant\n"
     ]
    }
   ],
   "source": [
    "a=input(\"Enter a character: \").lower()\n",
    "if a in \"aeiou\":\n",
    "    print(\"the given character is a vowel\")\n",
    "else:\n",
    "    print(\"the given character is a consonant\")"
   ]
  },
  {
   "cell_type": "markdown",
   "id": "6975c282",
   "metadata": {},
   "source": [
    "### salary report"
   ]
  },
  {
   "cell_type": "code",
   "execution_count": 6,
   "id": "715faee5",
   "metadata": {},
   "outputs": [
    {
     "name": "stdout",
     "output_type": "stream",
     "text": [
      "the total dearness allowance is 500.0\n",
      "the total house rent allowance is 1000.0\n",
      "the gross salary is 6500.0\n"
     ]
    }
   ],
   "source": [
    "a=5000\n",
    "tda=a*10/100\n",
    "print(\"the total dearness allowance is\",tda)\n",
    "hra=a*20/100\n",
    "print(\"the total house rent allowance is\",hra)\n",
    "gross=a+tda+hra \n",
    "print(\"the gross salary is\",gross)"
   ]
  },
  {
   "cell_type": "markdown",
   "id": "29ce7f22",
   "metadata": {},
   "source": [
    "### check the user is eligible for voting or not"
   ]
  },
  {
   "cell_type": "code",
   "execution_count": 7,
   "id": "66aa4901",
   "metadata": {},
   "outputs": [
    {
     "name": "stdout",
     "output_type": "stream",
     "text": [
      "You are not eligible to vote.\n"
     ]
    }
   ],
   "source": [
    "age = int(input(\"Enter your age: \"))\n",
    "if age >= 18:\n",
    "    print(\"You are eligible to vote.\")\n",
    "else:\n",
    "    print(\"You are not eligible to vote.\")"
   ]
  },
  {
   "cell_type": "markdown",
   "id": "63d4a300",
   "metadata": {},
   "source": [
    "#### check the two sides of a triangle are equal or not"
   ]
  },
  {
   "cell_type": "code",
   "execution_count": 8,
   "id": "039fed8f",
   "metadata": {},
   "outputs": [
    {
     "name": "stdout",
     "output_type": "stream",
     "text": [
      "The two sides of the triangle are not equal.\n"
     ]
    }
   ],
   "source": [
    "t1 = int(input(\"Enter the first side of the triangle: \"))\n",
    "t2 = int(input(\"Enter the second side of the triangle: \"))\n",
    "if t1 == t2:\n",
    "    print(\"The two sides of the triangle are equal.\")\n",
    "else:\n",
    "    print(\"The two sides of the triangle are not equal.\")"
   ]
  },
  {
   "cell_type": "markdown",
   "id": "fb3015e7",
   "metadata": {},
   "source": [
    "##### checkwhether a triangle is an equilateral triangle or isosceles triangle"
   ]
  },
  {
   "cell_type": "code",
   "execution_count": 9,
   "id": "2fedde8f",
   "metadata": {},
   "outputs": [
    {
     "name": "stdout",
     "output_type": "stream",
     "text": [
      "The triangle is an equilateral triangle.\n"
     ]
    }
   ],
   "source": [
    "t1= int(input(\"Enter the first side of the triangle: \"))\n",
    "t2= int(input(\"Enter the second side of the triangle: \"))\n",
    "t3= int(input(\"Enter the third side of the triangle: \"))\n",
    "if t1 == t2 and t2 == t3:\n",
    "    print(\"The triangle is an equilateral triangle.\")\n",
    "elif t1 == t2 or t2 == t3 or t1 == t3:\n",
    "    print(\"The triangle is an isosceles triangle.\")\n",
    "else:\n",
    "    print(\"The triangle is not an equilateral or isosceles triangle.\")\n"
   ]
  },
  {
   "cell_type": "markdown",
   "id": "ad353222",
   "metadata": {},
   "source": [
    "### check the details are valid or not in a registraion form\n"
   ]
  },
  {
   "cell_type": "code",
   "execution_count": null,
   "id": "8c25bab5",
   "metadata": {},
   "outputs": [
    {
     "name": "stdout",
     "output_type": "stream",
     "text": [
      "Registration successful!😊\n"
     ]
    }
   ],
   "source": [
    "username = input(\"Enter your username: \")\n",
    "email = input(\"Enter your email: \")\n",
    "phone = input(\"Enter your phone number: \")\n",
    "password = input(\"Enter your password: \")\n",
    "cpass = input(\"Confirm your password: \")\n",
    "if len(username) < 5 or len(username) >= 15:\n",
    "    print(\"Username must be between 5 and 15 characters long.\")\n",
    "else:\n",
    "    if '@' in email and '.' in email:\n",
    "        if len(phone) == 10 and phone.isdigit():\n",
    "            if len(password) >= 8 and password.isallnum():\n",
    "                if password == cpass:\n",
    "                    print(\"Registration successful!😊\")\n",
    "                else:\n",
    "                    print(\"Passwords do not match.😢\")\n",
    "            else:\n",
    "                print(\"Password must be at least 8 characters long and alphanumeric.😢\")\n",
    "        else:\n",
    "            print(\"Phone number must be 10 digits long.😢\")\n",
    "    else:\n",
    "        print(\"Email must contain '@' and '.'😢\")\n",
    "     "
   ]
  }
 ],
 "metadata": {
  "kernelspec": {
   "display_name": "base",
   "language": "python",
   "name": "python3"
  },
  "language_info": {
   "codemirror_mode": {
    "name": "ipython",
    "version": 3
   },
   "file_extension": ".py",
   "mimetype": "text/x-python",
   "name": "python",
   "nbconvert_exporter": "python",
   "pygments_lexer": "ipython3",
   "version": "3.13.2"
  }
 },
 "nbformat": 4,
 "nbformat_minor": 5
}
