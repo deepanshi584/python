{
 "cells": [
  {
   "cell_type": "markdown",
   "id": "7353c8f2",
   "metadata": {},
   "source": [
    "functions are methods or block of code which reduce the reusability of code.\n",
    "- function is 2 types of\n",
    "    - user defined\n",
    "        - parameterized\n",
    "        - non parameterized\n",
    "        - return\n",
    "        - non return\n",
    "        - default parameterized\n",
    "        - lambda \n",
    "    - built in function"
   ]
  },
  {
   "cell_type": "code",
   "execution_count": null,
   "id": "bc28c278",
   "metadata": {},
   "outputs": [
    {
     "name": "stdout",
     "output_type": "stream",
     "text": [
      "Hello, World!\n",
      "Welcome to the Python script.\n",
      "This is a simple function demonstration.\n"
     ]
    }
   ],
   "source": [
    "# NON PARAMETERIZED FUNCTION\n",
    "def greet():\n",
    "    print(\"Hello, World!\")\n",
    "    print(\"Welcome to the Python script.\")\n",
    "    print(\"This is a simple function demonstration.\")\n",
    "greet()"
   ]
  },
  {
   "cell_type": "code",
   "execution_count": 4,
   "id": "e9960e2e",
   "metadata": {},
   "outputs": [
    {
     "name": "stdout",
     "output_type": "stream",
     "text": [
      "Hello, World!\n",
      "Welcome to the Python script.\n",
      "This is a simple function demonstration.\n"
     ]
    }
   ],
   "source": [
    "greet()  # Calling the function to execute it"
   ]
  },
  {
   "cell_type": "code",
   "execution_count": null,
   "id": "cfba226d",
   "metadata": {},
   "outputs": [
    {
     "name": "stdout",
     "output_type": "stream",
     "text": [
      "Hello, Deepa!\n",
      "The sum is: 15\n"
     ]
    }
   ],
   "source": [
    "## parameterized function--->which takes input from user\n",
    "def greet(name):\n",
    "    print(f\"Hello, {name}!\")\n",
    "greet(\"Deepa\")  # Calling the function with a parameter\n"
   ]
  },
  {
   "cell_type": "code",
   "execution_count": 9,
   "id": "d78e2e3b",
   "metadata": {},
   "outputs": [
    {
     "name": "stdout",
     "output_type": "stream",
     "text": [
      "15\n"
     ]
    }
   ],
   "source": [
    "def sum(a, b):\n",
    "    return a + b\n",
    "sum(5, 10)  # Calling the function with arguments\n",
    "print(sum(5, 10))  # Output: 15"
   ]
  },
  {
   "cell_type": "code",
   "execution_count": 13,
   "id": "6e5d6b75",
   "metadata": {},
   "outputs": [
    {
     "name": "stdout",
     "output_type": "stream",
     "text": [
      "Eligible to vote\n"
     ]
    }
   ],
   "source": [
    "# wap to check whether a person is eligible to vote or not\n",
    "def check(age):\n",
    "    if age >= 18:\n",
    "        return \"Eligible to vote\"\n",
    "    else:\n",
    "        return \"Not eligible to vote\"\n",
    "print(check(20))  # Output: Eligible to vote"
   ]
  },
  {
   "cell_type": "code",
   "execution_count": 18,
   "id": "3d9dceb9",
   "metadata": {},
   "outputs": [
    {
     "name": "stdout",
     "output_type": "stream",
     "text": [
      "Eligible to vote\n"
     ]
    }
   ],
   "source": [
    "age = int(input(\"Enter your age: \"))\n",
    "def check(age):\n",
    "    if age >= 18:\n",
    "        print( \"Eligible to vote\")\n",
    "    else:\n",
    "        print (\"Not eligible to vote\")\n",
    "check(age)  # Calling the function with user input\n"
   ]
  },
  {
   "cell_type": "code",
   "execution_count": 16,
   "id": "7d18d174",
   "metadata": {},
   "outputs": [
    {
     "name": "stdout",
     "output_type": "stream",
     "text": [
      "20.0\n"
     ]
    }
   ],
   "source": [
    "def avg(a,b,c):\n",
    "    avg = (a+b+c)/3\n",
    "    print(avg)\n",
    "avg(10,20,30)  "
   ]
  },
  {
   "cell_type": "code",
   "execution_count": 21,
   "id": "43cec6e2",
   "metadata": {},
   "outputs": [
    {
     "name": "stdout",
     "output_type": "stream",
     "text": [
      "20.0\n"
     ]
    }
   ],
   "source": [
    "def avg(a, b, c):\n",
    "    return (a + b + c) / 3\n",
    "average = avg(10, 20, 30)\n",
    "print(average)"
   ]
  },
  {
   "cell_type": "code",
   "execution_count": 22,
   "id": "c688fd0d",
   "metadata": {},
   "outputs": [
    {
     "name": "stdout",
     "output_type": "stream",
     "text": [
      "20.0\n"
     ]
    }
   ],
   "source": [
    "print(average)"
   ]
  },
  {
   "cell_type": "code",
   "execution_count": null,
   "id": "e1d29510",
   "metadata": {},
   "outputs": [
    {
     "data": {
      "text/plain": [
       "'Even'"
      ]
     },
     "execution_count": 23,
     "metadata": {},
     "output_type": "execute_result"
    }
   ],
   "source": [
    "## wap to find a number is even or odd\n",
    "def check(num):\n",
    "    if num % 2 == 0:\n",
    "        return \"Even\"\n",
    "    else:\n",
    "        return \"Odd\"\n",
    "check(10)  "
   ]
  },
  {
   "cell_type": "code",
   "execution_count": 25,
   "id": "2a71cc31",
   "metadata": {},
   "outputs": [
    {
     "name": "stdout",
     "output_type": "stream",
     "text": [
      "Not prime\n"
     ]
    }
   ],
   "source": [
    "# to find a number is prime or not\n",
    "def check(num):\n",
    "    if num < 2:\n",
    "        return \"Not prime\"\n",
    "    for i in range(2, num):\n",
    "        if num % i == 0:\n",
    "            return \"Not prime\"\n",
    "    return \"Prime\"\n",
    "print(check(12)) "
   ]
  },
  {
   "cell_type": "code",
   "execution_count": 28,
   "id": "fa6d54aa",
   "metadata": {},
   "outputs": [
    {
     "data": {
      "text/plain": [
       "25"
      ]
     },
     "execution_count": 28,
     "metadata": {},
     "output_type": "execute_result"
    }
   ],
   "source": [
    "# to find the square of a number\n",
    "def square(num):\n",
    "    return num * num\n",
    "square(5)"
   ]
  },
  {
   "cell_type": "code",
   "execution_count": 30,
   "id": "5f82f2f9",
   "metadata": {},
   "outputs": [
    {
     "data": {
      "text/plain": [
       "[1, 4, 25, 16, 9]"
      ]
     },
     "execution_count": 30,
     "metadata": {},
     "output_type": "execute_result"
    }
   ],
   "source": [
    "#take a list of 5 numbers and return a new list with squares of those numbers\n",
    "def list(nums):\n",
    "    squares = []\n",
    "    for num in nums:\n",
    "        squares.append(num * num)\n",
    "    return squares\n",
    "list([1,2,5,4,3])"
   ]
  },
  {
   "cell_type": "code",
   "execution_count": 32,
   "id": "4a69314d",
   "metadata": {},
   "outputs": [
    {
     "data": {
      "text/plain": [
       "[2, 4, 6, 8, 10, 12, 14, 16, 18, 20]"
      ]
     },
     "execution_count": 32,
     "metadata": {},
     "output_type": "execute_result"
    }
   ],
   "source": [
    "# take a list of 10 numbers and return a new list with only even numbers\n",
    "def list(nums):\n",
    "    even = []\n",
    "    for num in nums:\n",
    "        if num % 2 == 0:\n",
    "            even.append(num)\n",
    "    return even\n",
    "list([1,2,3,4,5,6,7,8,9,10,11,12,13,14,15,16,17,18,19,20])"
   ]
  },
  {
   "cell_type": "code",
   "execution_count": null,
   "id": "580bb220",
   "metadata": {},
   "outputs": [
    {
     "data": {
      "text/plain": [
       "[1, 3, 5, 7, 9, 11, 13, 15, 17, 19]"
      ]
     },
     "execution_count": 34,
     "metadata": {},
     "output_type": "execute_result"
    }
   ],
   "source": [
    "def list(nums):\n",
    "    odd = []\n",
    "    for num in nums:\n",
    "        if num % 2 != 0:\n",
    "            odd.append(num)\n",
    "    return odd\n",
    "list([1,2,3,4,5,6,7,8,9,10,11,12,13,14,15,16,17,18,19,20])\n"
   ]
  },
  {
   "cell_type": "code",
   "execution_count": 39,
   "id": "958f63d7",
   "metadata": {},
   "outputs": [
    {
     "name": "stdout",
     "output_type": "stream",
     "text": [
      "[1, 4, 9, 16, 25]\n"
     ]
    }
   ],
   "source": [
    "# to find the square of a number using list comprehension \n",
    "lst = [1, 2, 3, 4, 5]\n",
    "squares = [x**2 for x in lst]\n",
    "print(squares) "
   ]
  },
  {
   "cell_type": "code",
   "execution_count": 40,
   "id": "ae40c640",
   "metadata": {},
   "outputs": [
    {
     "data": {
      "text/plain": [
       "[1, 4, 9, 16, 25]"
      ]
     },
     "execution_count": 40,
     "metadata": {},
     "output_type": "execute_result"
    }
   ],
   "source": [
    "def square(num):\n",
    "    return [x**2 for x in num]\n",
    "square([1, 2, 3, 4, 5])"
   ]
  },
  {
   "cell_type": "code",
   "execution_count": null,
   "id": "4e82538f",
   "metadata": {},
   "outputs": [
    {
     "name": "stdout",
     "output_type": "stream",
     "text": [
      "(' I love my country ', 'India')\n",
      "(' I love my country ', 'hindustan')\n",
      "(' I love my country ', 'India')\n"
     ]
    }
   ],
   "source": [
    "## Function with default parameter\n",
    "# This function takes a country name as an argument and returns a message.\n",
    "def my_country(country=\"India\"):\n",
    "    return \" I love my country \" , country\n",
    "print(my_country(\"India\"))  \n",
    "print(my_country(\"hindustan\"))\n",
    "print(my_country())"
   ]
  },
  {
   "cell_type": "code",
   "execution_count": null,
   "id": "c86537c7",
   "metadata": {},
   "outputs": [
    {
     "name": "stdout",
     "output_type": "stream",
     "text": [
      "15\n",
      "25\n"
     ]
    }
   ],
   "source": [
    "# lambda function\n",
    "# A lambda function is a small anonymous function that can take any number of arguments but can only\n",
    "# have one expression. It is often used for short, throwaway functions.\n",
    "# Syntax: lambda arguments: expression\n",
    "add = lambda x, y: x + y\n",
    "print(add(5, 10))   \n",
    "square = lambda x: x * x\n",
    "print(square(5))  "
   ]
  },
  {
   "cell_type": "code",
   "execution_count": 48,
   "id": "0dd93e34",
   "metadata": {},
   "outputs": [
    {
     "name": "stdout",
     "output_type": "stream",
     "text": [
      "True\n"
     ]
    }
   ],
   "source": [
    "# lambda function to check a number is odd\n",
    "odd = lambda x:x%2!=0\n",
    "print(odd(5))"
   ]
  },
  {
   "cell_type": "code",
   "execution_count": 3,
   "id": "f6485813",
   "metadata": {},
   "outputs": [
    {
     "name": "stdout",
     "output_type": "stream",
     "text": [
      "False\n"
     ]
    }
   ],
   "source": [
    "# lambda function to check a character is vowel or not\n",
    "vowel = lambda x: x in 'aeiouAEIOU'\n",
    "print(vowel('h'))  "
   ]
  },
  {
   "cell_type": "code",
   "execution_count": 4,
   "id": "42014679",
   "metadata": {},
   "outputs": [
    {
     "name": "stdout",
     "output_type": "stream",
     "text": [
      "2000.0\n"
     ]
    }
   ],
   "source": [
    "# lambda function to calculate 10% of 20000\n",
    "percentage = lambda x: (x*10)/100\n",
    "print(percentage(20000)) "
   ]
  },
  {
   "cell_type": "code",
   "execution_count": 6,
   "id": "caa57ae8",
   "metadata": {},
   "outputs": [
    {
     "name": "stdout",
     "output_type": "stream",
     "text": [
      "False\n"
     ]
    }
   ],
   "source": [
    "# lambda function to check a year is leap year or not\n",
    "leap = lambda year: year%4 ==0\n",
    "print(leap(2025))  #"
   ]
  }
 ],
 "metadata": {
  "kernelspec": {
   "display_name": "base",
   "language": "python",
   "name": "python3"
  },
  "language_info": {
   "codemirror_mode": {
    "name": "ipython",
    "version": 3
   },
   "file_extension": ".py",
   "mimetype": "text/x-python",
   "name": "python",
   "nbconvert_exporter": "python",
   "pygments_lexer": "ipython3",
   "version": "3.13.2"
  }
 },
 "nbformat": 4,
 "nbformat_minor": 5
}
