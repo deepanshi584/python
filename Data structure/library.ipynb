{
 "cells": [
  {
   "cell_type": "code",
   "execution_count": null,
   "id": "a05b53ed",
   "metadata": {},
   "outputs": [],
   "source": [
    "import math\n"
   ]
  },
  {
   "cell_type": "code",
   "execution_count": 2,
   "id": "69966c44",
   "metadata": {},
   "outputs": [
    {
     "name": "stdout",
     "output_type": "stream",
     "text": [
      "4.0\n",
      "3.141592653589793\n",
      "120\n",
      "8.0\n",
      "1.0\n",
      "1.0\n",
      "2.0\n",
      "6\n",
      "12\n"
     ]
    }
   ],
   "source": [
    "print(math.sqrt(16))  \n",
    "print(math.pi)\n",
    "print(math.factorial(5))\n",
    "print(math.pow(2, 3))\n",
    "print(math.sin(math.pi / 2))\n",
    "print(math.cos(0))\n",
    "print(math.log(100, 10))\n",
    "print(math.gcd(48, 18))\n",
    "print(math.lcm(4, 6))"
   ]
  },
  {
   "cell_type": "code",
   "execution_count": 3,
   "id": "e788ad78",
   "metadata": {},
   "outputs": [],
   "source": [
    "from random import  random, randint, choice, shuffle"
   ]
  },
  {
   "cell_type": "code",
   "execution_count": 4,
   "id": "65d9a373",
   "metadata": {},
   "outputs": [],
   "source": [
    "import random"
   ]
  },
  {
   "cell_type": "code",
   "execution_count": 12,
   "id": "3f091616",
   "metadata": {},
   "outputs": [
    {
     "name": "stdout",
     "output_type": "stream",
     "text": [
      "random number nearest to 0: 0.1555313141615512\n",
      "random integer between 1 and 10: 3\n",
      "random choice from list: banana\n",
      "shuffled list: None\n",
      "shuffled names: ['deepa', 'alice', 'john']\n"
     ]
    }
   ],
   "source": [
    "print('random number nearest to 0:', random.random())\n",
    "print('random integer between 1 and 10:', randint(1, 10))\n",
    "print('random choice from list:', choice(['apple', 'banana', 'cherry']))\n",
    "print('shuffled list:', shuffle([1, 2, 3, 4, 5]))\n",
    "name = ['deepa','john','alice']\n",
    "random.shuffle(name)\n",
    "print('shuffled names:', name)\n"
   ]
  },
  {
   "cell_type": "code",
   "execution_count": 13,
   "id": "eef97658",
   "metadata": {},
   "outputs": [],
   "source": [
    "from datetime import datetime as dt"
   ]
  },
  {
   "cell_type": "code",
   "execution_count": 17,
   "id": "fa88c921",
   "metadata": {},
   "outputs": [
    {
     "name": "stdout",
     "output_type": "stream",
     "text": [
      "Current date and time: 2025-07-17 13:26:06.118055\n",
      "Current year: 2025\n",
      "Current month: 7\n",
      "Current day: 17\n",
      "Current hour: 13\n",
      "current date: 2025-07-17\n",
      "Current time: 13:26:06.119820\n",
      "current weekday: 3\n",
      "Formatted date: 2025-07-17 13:26:06\n"
     ]
    }
   ],
   "source": [
    "print(\"Current date and time:\", dt.now())\n",
    "print(\"Current year:\", dt.now().year)\n",
    "print(\"Current month:\", dt.now().month)\n",
    "print(\"Current day:\", dt.now().day)\n",
    "print(\"Current hour:\", dt.now().hour)\n",
    "print(\"current date:\",dt.now().date())\n",
    "print(\"Current time:\", dt.now().time())\n",
    "print(\"current weekday:\", dt.now().weekday())\n",
    "print(\"Formatted date:\", dt.now().strftime(\"%Y-%m-%d %H:%M:%S\"))"
   ]
  },
  {
   "cell_type": "code",
   "execution_count": 1,
   "id": "09820eac",
   "metadata": {},
   "outputs": [
    {
     "name": "stdout",
     "output_type": "stream",
     "text": [
      "Formatted date: 17/07/2025\n"
     ]
    }
   ],
   "source": [
    "# date formatting\n",
    "from datetime import datetime\n",
    "print(\"Formatted date:\", datetime.now().strftime(\"%d/%m/%Y\"))"
   ]
  }
 ],
 "metadata": {
  "kernelspec": {
   "display_name": "base",
   "language": "python",
   "name": "python3"
  },
  "language_info": {
   "codemirror_mode": {
    "name": "ipython",
    "version": 3
   },
   "file_extension": ".py",
   "mimetype": "text/x-python",
   "name": "python",
   "nbconvert_exporter": "python",
   "pygments_lexer": "ipython3",
   "version": "3.13.2"
  }
 },
 "nbformat": 4,
 "nbformat_minor": 5
}
