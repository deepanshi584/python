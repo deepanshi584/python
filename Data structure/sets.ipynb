{
 "cells": [
  {
   "cell_type": "markdown",
   "id": "5cc96063",
   "metadata": {},
   "source": [
    "set is the collection of unique items.\n",
    "set is unoredered collection\n",
    "there is no repetition of items\n",
    "we use {} for representing set"
   ]
  },
  {
   "cell_type": "code",
   "execution_count": 4,
   "id": "5af670e3",
   "metadata": {},
   "outputs": [
    {
     "name": "stdout",
     "output_type": "stream",
     "text": [
      "{'cherry', 'banana', 'apple'}\n",
      "{1, 2, 3, 4, 5, 7, 8, 9}\n"
     ]
    }
   ],
   "source": [
    "set = {\"apple\", \"banana\", \"cherry\"}\n",
    "print(set)\n",
    "number_set = {1, 2, 3, 4, 5,8,7,4,7,3,9}\n",
    "print(number_set)  "
   ]
  },
  {
   "cell_type": "markdown",
   "id": "676a4b9a",
   "metadata": {},
   "source": [
    "Adding elements in set"
   ]
  },
  {
   "cell_type": "code",
   "execution_count": 12,
   "id": "de1455f2",
   "metadata": {},
   "outputs": [
    {
     "name": "stdout",
     "output_type": "stream",
     "text": [
      "{1, 2, 3, 4, 5, 6, 7, 8, 9, 10}\n"
     ]
    }
   ],
   "source": [
    "set ={1, 2, 3, 4, 5,6,7,8,9}\n",
    "set.add(10)\n",
    "print(set)"
   ]
  },
  {
   "cell_type": "code",
   "execution_count": 13,
   "id": "a4163745",
   "metadata": {},
   "outputs": [
    {
     "name": "stdout",
     "output_type": "stream",
     "text": [
      "{1, 2, 3, 4, 5, 6, 7, 8, 9, 10, 11, 12}\n"
     ]
    }
   ],
   "source": [
    "#add multiple items in set\n",
    "set = {1, 2, 3, 4, 5,6,7,8,9}\n",
    "set.update([10, 11, 12])\n",
    "print(set)"
   ]
  },
  {
   "cell_type": "code",
   "execution_count": null,
   "id": "3218856f",
   "metadata": {},
   "outputs": [
    {
     "name": "stdout",
     "output_type": "stream",
     "text": [
      "{1, 2, 3, 4, 7, 8, 9}\n"
     ]
    }
   ],
   "source": [
    "# remove item from set ----> raises error if item is not present\n",
    "set = {1, 2, 3, 4, 5,6,7,8,9}\n",
    "set.remove(5)\n",
    "set.remove(6)\n",
    "print(set)\n"
   ]
  },
  {
   "cell_type": "code",
   "execution_count": null,
   "id": "8d517e10",
   "metadata": {},
   "outputs": [
    {
     "name": "stdout",
     "output_type": "stream",
     "text": [
      "{1, 2, 3, 4, 6, 7, 8, 9}\n"
     ]
    }
   ],
   "source": [
    "## discard item from set ---->does not raise error if item is not present\n",
    "set = {1, 2, 3, 4, 5,6,7,8,9}\n",
    "set.discard(5)\n",
    "set.discard(60)\n",
    "print(set)"
   ]
  },
  {
   "cell_type": "code",
   "execution_count": 22,
   "id": "dbb28d67",
   "metadata": {},
   "outputs": [
    {
     "name": "stdout",
     "output_type": "stream",
     "text": [
      "True\n",
      "False\n"
     ]
    }
   ],
   "source": [
    "# check if item is present in set\n",
    "set = {1, 2, 3, 4, 5,6,7,8,9}\n",
    "print(5 in set)  # True\n",
    "print(10 in set)  # False"
   ]
  },
  {
   "cell_type": "code",
   "execution_count": 25,
   "id": "c5f2c3dd",
   "metadata": {},
   "outputs": [
    {
     "name": "stdout",
     "output_type": "stream",
     "text": [
      "9\n"
     ]
    }
   ],
   "source": [
    "nums = {1, 2, 3, 4, 5,6,7,8,9}\n",
    "print(len(nums))  "
   ]
  },
  {
   "cell_type": "code",
   "execution_count": null,
   "id": "b601bdf2",
   "metadata": {},
   "outputs": [],
   "source": [
    "a= {1, 2, 3, 4, 5}\n",
    "a.clear()\n",
    "print(a)  "
   ]
  },
  {
   "cell_type": "code",
   "execution_count": 29,
   "id": "eda42592",
   "metadata": {},
   "outputs": [
    {
     "name": "stdout",
     "output_type": "stream",
     "text": [
      "Union: {1, 2, 3, 4, 5, 6, 7, 8}\n",
      "Intersection: {4, 5}\n",
      "Difference: {9, 10}\n"
     ]
    }
   ],
   "source": [
    "# operations on sets\n",
    "a = {1, 2, 3, 4, 5}\n",
    "b = {4, 5, 6, 7, 8}\n",
    "# union\n",
    "union = a.union(b)\n",
    "print(\"Union:\", union)\n",
    "# intersection\n",
    "intersection = a.intersection(b)\n",
    "print(\"Intersection:\", intersection)\n",
    "# difference\n",
    "C= {9, 10, 11, 12}\n",
    "D= {11, 12, 13, 14}\n",
    "difference = C.difference(D)\n",
    "print(\"Difference:\", difference)"
   ]
  }
 ],
 "metadata": {
  "kernelspec": {
   "display_name": "base",
   "language": "python",
   "name": "python3"
  },
  "language_info": {
   "codemirror_mode": {
    "name": "ipython",
    "version": 3
   },
   "file_extension": ".py",
   "mimetype": "text/x-python",
   "name": "python",
   "nbconvert_exporter": "python",
   "pygments_lexer": "ipython3",
   "version": "3.13.2"
  }
 },
 "nbformat": 4,
 "nbformat_minor": 5
}
