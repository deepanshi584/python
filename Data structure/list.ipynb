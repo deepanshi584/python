{
 "cells": [
  {
   "cell_type": "code",
   "execution_count": 17,
   "id": "36d3956a",
   "metadata": {},
   "outputs": [
    {
     "name": "stdout",
     "output_type": "stream",
     "text": [
      "facebook\n",
      "twitter\n",
      "instagram\n",
      "youtube\n",
      "tiktok\n",
      "snapchat\n",
      "whatsapp\n",
      "playstore\n",
      "pinterest\n",
      "linkedin\n"
     ]
    }
   ],
   "source": [
    "applist = [ \"facebook\", \"twitter\", \"instagram\", \"youtube\", \"tiktok\", \"snapchat\" ,\"whatsapp\",\"playstore\",\"pinterest\",\"linkedin\" ]\n",
    "for app in applist:\n",
    "    print(app)"
   ]
  },
  {
   "cell_type": "markdown",
   "id": "a98d8995",
   "metadata": {},
   "source": [
    "### indexing and slicing"
   ]
  },
  {
   "cell_type": "code",
   "execution_count": 22,
   "id": "ad961273",
   "metadata": {},
   "outputs": [
    {
     "name": "stdout",
     "output_type": "stream",
     "text": [
      "playstore\n",
      "pinterest\n",
      "['instagram', 'youtube', 'tiktok']\n",
      "['instagram', 'youtube', 'tiktok', 'snapchat', 'whatsapp', 'playstore', 'pinterest', 'linkedin']\n",
      "['facebook', 'twitter', 'instagram', 'youtube', 'tiktok']\n",
      "['instagram', 'tiktok', 'whatsapp']\n"
     ]
    }
   ],
   "source": [
    "applist = [ \"facebook\", \"twitter\", \"instagram\", \"youtube\", \"tiktok\", \"snapchat\" ,\"whatsapp\",\"playstore\",\"pinterest\",\"linkedin\" ]\n",
    "print(applist[7])  # indexing\n",
    "print(applist[-2])  # slicing\n",
    "print(applist[2:5])  # slicing\n",
    "print(applist[2:])  # slicing\n",
    "print(applist[:5])  # slicing\n",
    "print(applist[2:8:2])  # slicing with step"
   ]
  },
  {
   "cell_type": "markdown",
   "id": "b04c6b94",
   "metadata": {},
   "source": [
    "### LIST METHODS\n",
    "\n",
    " - append( ) - to add item at the end of the list\n",
    "\n",
    "- insert( ) - to add item at any specific position in the list\n",
    "\n",
    "- pop( ) - to delete items using its index position\n",
    "\n",
    "- remove( ) - to delete items using item name\n",
    "\n",
    "- copy( ) - to make a duplicate of the list\n",
    "\n",
    "- sort( ) - to sort the list in a particular order\n",
    "\n",
    "- extend( ) - to combine two lists into a single list\n",
    "\n",
    "- clear( ) - to delete all the items from the list but not the list"
   ]
  },
  {
   "cell_type": "code",
   "execution_count": 32,
   "id": "345005c6",
   "metadata": {},
   "outputs": [
    {
     "name": "stdout",
     "output_type": "stream",
     "text": [
      "[1, 2, 3, 4, 5, 6]\n",
      "[1, 2, 10, 3, 4, 5, 6]\n",
      "[1, 2, 10, 4, 5, 6]\n",
      "[1, 2, 10, 4, 5]\n",
      "[1, 2, 4, 5, 10]\n",
      "[10, 5, 4, 2, 1]\n",
      "[10, 5, 4, 2, 1]\n",
      "[10, 5, 4, 2, 1, 7, 8, 9]\n",
      "[9, 8, 7, 1, 2, 4, 5, 10]\n",
      "[]\n",
      "['Amazon', 'Flipkart', 'Jabong', 'Myntra', 'Ola', 'Paytm', 'Snapdeal', 'Swiggy', 'Uber', 'Zomato', 'facebook', 'instagram', 'linkedin', 'pinterest', 'playstore', 'snapchat', 'tiktok', 'twitter', 'whatsapp', 'youtube']\n",
      "['Amazon', 'Flipkart', 'Jabong', 'Myntra', 'Ola', 'Paytm', 'Snapdeal', 'Swiggy', 'Uber', 'Zomato', 'facebook', 'instagram', 'linkedin', 'pinterest', 'playstore', 'snapchat', 'tiktok', 'twitter', 'whatsapp', 'youtube', 1, 3, 5, 7, 9]\n"
     ]
    }
   ],
   "source": [
    "list = [1, 2, 3, 4, 5]\n",
    "list.append(6)  # append an element\n",
    "print(list)\n",
    "list.insert(2, 10)  # insert an element at a specific index\n",
    "print(list)\n",
    "list.remove(3)  # remove an element by value\n",
    "print(list)\n",
    "list.pop()  # remove the last element\n",
    "print(list)\n",
    "list.sort()  # sort the list in ascending order\n",
    "print(list)\n",
    "list.sort(reverse=True)  # sort the list in descending order\n",
    "print(list)\n",
    "list.copy()  # create a shallow copy of the list\n",
    "print(list)  # create a shallow copy of the list\n",
    "list.extend([7, 8, 9])  # extend the list with another list\n",
    "print(list)  # extend the list with another list\n",
    "list.reverse()  # reverse the list\n",
    "print(list)  # reverse the list\n",
    "list.clear()  # clear the list\n",
    "print(list)  # clear the list\n",
    "list = [\"facebook\", \"twitter\", \"instagram\", \"youtube\", \"tiktok\", \"snapchat\" ,\"whatsapp\",\"playstore\",\"pinterest\",\"linkedin\",\"Amazon\",\"Flipkart\",\"Snapdeal\",\"Myntra\",\"Jabong\",\"Paytm\",\"Zomato\",\"Swiggy\",\"Uber\",\"Ola\"]\n",
    "list.sort()  # sort the list in ascending order\n",
    "print(list)  # sort the list in ascending order\n",
    "list1 =[1,3,5,7,9]\n",
    "list.extend(list1)  # extend the list with another list\n",
    "print(list)  # extend the list with another list\n"
   ]
  },
  {
   "cell_type": "code",
   "execution_count": null,
   "id": "36bc256f",
   "metadata": {},
   "outputs": [
    {
     "name": "stdout",
     "output_type": "stream",
     "text": [
      "['apple', 'banana', 'cherry', 'orange']\n",
      "['apple', 'kiwi', 'banana', 'cherry', 'orange']\n",
      "['apple', 'kiwi', 'cherry', 'orange']\n",
      "['apple', 'kiwi', 'cherry']\n",
      "['apple', 'cherry', 'kiwi']\n",
      "['kiwi', 'cherry', 'apple']\n",
      "['kiwi', 'cherry', 'apple']\n",
      "['kiwi', 'cherry', 'apple', 'carrot', 'broccoli', 'spinach']\n",
      "['spinach', 'broccoli', 'carrot', 'apple', 'cherry', 'kiwi']\n",
      "[]\n"
     ]
    }
   ],
   "source": [
    "fruits = [\"apple\", \"banana\", \"cherry\"]\n",
    "fruits.append(\"orange\")  \n",
    "print(fruits)  \n",
    "fruits.insert(1, \"kiwi\") \n",
    "print(fruits)  \n",
    "fruits.remove(\"banana\")  \n",
    "print(fruits) \n",
    "fruits.pop() \n",
    "print(fruits) \n",
    "fruits.sort() \n",
    "print(fruits)   \n",
    "fruits.sort(reverse=True)  \n",
    "print(fruits)  \n",
    "fruits_copy = fruits.copy()  \n",
    "print(fruits_copy)  \n",
    "vegetables = [\"carrot\", \"broccoli\", \"spinach\"]\n",
    "fruits.extend(vegetables) \n",
    "print(fruits)  \n",
    "fruits.reverse()  \n",
    "print(fruits)  \n",
    "fruits.clear()  \n",
    "print(fruits)  "
   ]
  }
 ],
 "metadata": {
  "kernelspec": {
   "display_name": "base",
   "language": "python",
   "name": "python3"
  },
  "language_info": {
   "codemirror_mode": {
    "name": "ipython",
    "version": 3
   },
   "file_extension": ".py",
   "mimetype": "text/x-python",
   "name": "python",
   "nbconvert_exporter": "python",
   "pygments_lexer": "ipython3",
   "version": "3.13.2"
  }
 },
 "nbformat": 4,
 "nbformat_minor": 5
}
