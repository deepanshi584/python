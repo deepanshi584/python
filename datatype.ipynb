{
 "cells": [
  {
   "cell_type": "markdown",
   "id": "0ce593f8",
   "metadata": {},
   "source": [
    "# string"
   ]
  },
  {
   "cell_type": "code",
   "execution_count": 1,
   "id": "70f2cd95",
   "metadata": {},
   "outputs": [
    {
     "name": "stdout",
     "output_type": "stream",
     "text": [
      "alice\n",
      "<class 'str'>\n"
     ]
    }
   ],
   "source": [
    "name=\"alice\"\n",
    "print(name)\n",
    "print(type(name))"
   ]
  },
  {
   "cell_type": "markdown",
   "id": "6685f190",
   "metadata": {},
   "source": [
    "# multiline string"
   ]
  },
  {
   "cell_type": "code",
   "execution_count": 3,
   "id": "c3906c3f",
   "metadata": {},
   "outputs": [
    {
     "name": "stdout",
     "output_type": "stream",
     "text": [
      "Twinkle, twinkle, little star,\n",
      "How I wonder what you are! \n"
     ]
    }
   ],
   "source": [
    "poem = \"\"\"Twinkle, twinkle, little star,\n",
    "How I wonder what you are! \"\"\"\n",
    "print(poem)"
   ]
  },
  {
   "cell_type": "markdown",
   "id": "ac548019",
   "metadata": {},
   "source": [
    "# list"
   ]
  },
  {
   "cell_type": "code",
   "execution_count": 5,
   "id": "9b5b973a",
   "metadata": {},
   "outputs": [
    {
     "name": "stdout",
     "output_type": "stream",
     "text": [
      "[1, 2, 3, 4, 5, 2, 5, 9, 7, 5, 6, 8, 4, 3, 2, 1]\n"
     ]
    }
   ],
   "source": [
    "list1 = [1, 2, 3, 4, 5,2,5,9,7,5,6,8,4,3,2,1]\n",
    "print(list1)"
   ]
  },
  {
   "cell_type": "markdown",
   "id": "969770a5",
   "metadata": {},
   "source": [
    "# tuple"
   ]
  },
  {
   "cell_type": "code",
   "execution_count": 6,
   "id": "11253eb3",
   "metadata": {},
   "outputs": [
    {
     "name": "stdout",
     "output_type": "stream",
     "text": [
      "(1, 2, 3, 4, 5, 2, 5, 9, 7, 5, 6, 8, 4, 3, 2, 1)\n"
     ]
    }
   ],
   "source": [
    "tuple1 = (1, 2, 3, 4, 5,2,5,9,7,5,6,8,4,3,2,1)\n",
    "print(tuple1)"
   ]
  }
 ],
 "metadata": {
  "kernelspec": {
   "display_name": "base",
   "language": "python",
   "name": "python3"
  },
  "language_info": {
   "codemirror_mode": {
    "name": "ipython",
    "version": 3
   },
   "file_extension": ".py",
   "mimetype": "text/x-python",
   "name": "python",
   "nbconvert_exporter": "python",
   "pygments_lexer": "ipython3",
   "version": "3.13.2"
  }
 },
 "nbformat": 4,
 "nbformat_minor": 5
}
