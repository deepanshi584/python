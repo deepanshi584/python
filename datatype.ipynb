{
 "cells": [
  {
   "cell_type": "markdown",
   "id": "0ce593f8",
   "metadata": {},
   "source": [
    "# string"
   ]
  },
  {
   "cell_type": "code",
   "execution_count": 1,
   "id": "70f2cd95",
   "metadata": {},
   "outputs": [
    {
     "name": "stdout",
     "output_type": "stream",
     "text": [
      "alice\n",
      "<class 'str'>\n"
     ]
    }
   ],
   "source": [
    "name=\"alice\"\n",
    "print(name)\n",
    "print(type(name))"
   ]
  },
  {
   "cell_type": "markdown",
   "id": "6685f190",
   "metadata": {},
   "source": [
    "# multiline string"
   ]
  },
  {
   "cell_type": "code",
   "execution_count": 3,
   "id": "c3906c3f",
   "metadata": {},
   "outputs": [
    {
     "name": "stdout",
     "output_type": "stream",
     "text": [
      "Twinkle, twinkle, little star,\n",
      "How I wonder what you are! \n"
     ]
    }
   ],
   "source": [
    "poem = \"\"\"Twinkle, twinkle, little star,\n",
    "How I wonder what you are! \"\"\"\n",
    "print(poem)"
   ]
  },
  {
   "cell_type": "markdown",
   "id": "ac548019",
   "metadata": {},
   "source": [
    "# list"
   ]
  },
  {
   "cell_type": "code",
   "execution_count": 5,
   "id": "9b5b973a",
   "metadata": {},
   "outputs": [
    {
     "name": "stdout",
     "output_type": "stream",
     "text": [
      "[1, 2, 3, 4, 5, 2, 5, 9, 7, 5, 6, 8, 4, 3, 2, 1]\n"
     ]
    }
   ],
   "source": [
    "list1 = [1, 2, 3, 4, 5,2,5,9,7,5,6,8,4,3,2,1]\n",
    "print(list1)"
   ]
  },
  {
   "cell_type": "markdown",
   "id": "969770a5",
   "metadata": {},
   "source": [
    "# tuple"
   ]
  },
  {
   "cell_type": "code",
   "execution_count": 6,
   "id": "11253eb3",
   "metadata": {},
   "outputs": [
    {
     "name": "stdout",
     "output_type": "stream",
     "text": [
      "(1, 2, 3, 4, 5, 2, 5, 9, 7, 5, 6, 8, 4, 3, 2, 1)\n"
     ]
    }
   ],
   "source": [
    "tuple1 = (1, 2, 3, 4, 5,2,5,9,7,5,6,8,4,3,2,1)\n",
    "print(tuple1)"
   ]
  },
  {
   "cell_type": "markdown",
   "id": "4b1b1676",
   "metadata": {},
   "source": [
    "# set"
   ]
  },
  {
   "cell_type": "code",
   "execution_count": 7,
   "id": "2659582d",
   "metadata": {},
   "outputs": [
    {
     "name": "stdout",
     "output_type": "stream",
     "text": [
      "{1, 2, 3, 4, 5, 6, 7, 8, 9}\n"
     ]
    }
   ],
   "source": [
    "set1 = {1, 2, 3, 4, 5,2,5,9,7,5,6,8,4,3,2,1}\n",
    "print(set1)"
   ]
  },
  {
   "cell_type": "markdown",
   "id": "d9ca41f7",
   "metadata": {},
   "source": [
    "# dictionaries"
   ]
  },
  {
   "cell_type": "code",
   "execution_count": 12,
   "id": "86621c5b",
   "metadata": {},
   "outputs": [
    {
     "name": "stdout",
     "output_type": "stream",
     "text": [
      "{'name': 'Alice', 'age': 25, 'city': 'Wonderland', 'is_student': True, 'grades': [85, 90, 95], 'address': {'street': '123 Main St', 'city': 'Wonderland', 'zip': '12345'}}\n",
      "<class 'dict'>\n"
     ]
    }
   ],
   "source": [
    "dic1= {\n",
    "    \"name\": \"Alice\",\n",
    "    \"age\": 25,\n",
    "    \"city\": \"Wonderland\",   \n",
    "    \"is_student\": True,\n",
    "    \"grades\": [85, 90, 95],\n",
    "    \"address\": {\n",
    "        \"street\": \"123 Main St\",\n",
    "        \"city\": \"Wonderland\",\n",
    "        \"zip\": \"12345\"\n",
    "    }   \n",
    "}\n",
    "print(dic1)\n",
    "print(type(dic1))"
   ]
  },
  {
   "cell_type": "markdown",
   "id": "7cf45d8c",
   "metadata": {},
   "source": [
    "# type casting"
   ]
  },
  {
   "cell_type": "code",
   "execution_count": 15,
   "id": "383432d4",
   "metadata": {},
   "outputs": [
    {
     "name": "stdout",
     "output_type": "stream",
     "text": [
      "<class 'int'>\n",
      "5\n",
      "<class 'str'>\n"
     ]
    }
   ],
   "source": [
    "a=5\n",
    "print(type(a))\n",
    "b=str(a)\n",
    "print(b)\n",
    "print(type(b))"
   ]
  },
  {
   "cell_type": "markdown",
   "id": "43dff897",
   "metadata": {},
   "source": [
    "# input method\n"
   ]
  },
  {
   "cell_type": "code",
   "execution_count": 3,
   "id": "3cfcbacc",
   "metadata": {},
   "outputs": [
    {
     "name": "stdout",
     "output_type": "stream",
     "text": [
      "8\n",
      "<class 'str'>\n"
     ]
    }
   ],
   "source": [
    "num = input(\"Enter a number: \")\n",
    "print( num)\n",
    "print(type(num))"
   ]
  }
 ],
 "metadata": {
  "kernelspec": {
   "display_name": "base",
   "language": "python",
   "name": "python3"
  },
  "language_info": {
   "codemirror_mode": {
    "name": "ipython",
    "version": 3
   },
   "file_extension": ".py",
   "mimetype": "text/x-python",
   "name": "python",
   "nbconvert_exporter": "python",
   "pygments_lexer": "ipython3",
   "version": "3.13.2"
  }
 },
 "nbformat": 4,
 "nbformat_minor": 5
}
