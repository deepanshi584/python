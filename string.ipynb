{
 "cells": [
  {
   "cell_type": "markdown",
   "id": "54868d39",
   "metadata": {},
   "source": [
    "string means group of letters, numbers or characters. it can be in single(' ') or double quote(\" \")"
   ]
  },
  {
   "cell_type": "code",
   "execution_count": 2,
   "id": "7670f225",
   "metadata": {},
   "outputs": [
    {
     "name": "stdout",
     "output_type": "stream",
     "text": [
      "henry\n",
      "Hello, my name is henry. I live in New York and I am 30 years old.\n"
     ]
    }
   ],
   "source": [
    "name = \"henry\"\n",
    "city = \"New York\"\n",
    "age = 30\n",
    "print(name)\n",
    "print(f\"Hello, my name is {name}. I live in {city} and I am {age} years old.\")"
   ]
  },
  {
   "cell_type": "markdown",
   "id": "f0556ab0",
   "metadata": {},
   "source": [
    "####how to declare a string"
   ]
  },
  {
   "cell_type": "code",
   "execution_count": 3,
   "id": "80af0f03",
   "metadata": {},
   "outputs": [
    {
     "name": "stdout",
     "output_type": "stream",
     "text": [
      "Hello, World!\n",
      "PYTHON IS FUN\n"
     ]
    }
   ],
   "source": [
    "text1 = \"Hello, World!\"\n",
    "text2 = 'PYTHON IS FUN'\n",
    "print(text1)\n",
    "print(text2)\n"
   ]
  },
  {
   "cell_type": "markdown",
   "id": "62da59e1",
   "metadata": {},
   "source": [
    "#### printing a string"
   ]
  },
  {
   "cell_type": "code",
   "execution_count": 5,
   "id": "b3d58342",
   "metadata": {},
   "outputs": [
    {
     "name": "stdout",
     "output_type": "stream",
     "text": [
      "Hello, World!\n"
     ]
    }
   ],
   "source": [
    "msg = \"Hello, World!\"\n",
    "print(msg)"
   ]
  },
  {
   "cell_type": "markdown",
   "id": "b20401bb",
   "metadata": {},
   "source": [
    "#### indexing in string"
   ]
  },
  {
   "cell_type": "code",
   "execution_count": 7,
   "id": "1b0d5b8a",
   "metadata": {},
   "outputs": [
    {
     "name": "stdout",
     "output_type": "stream",
     "text": [
      "H\n",
      "o\n",
      "d\n",
      "W\n"
     ]
    }
   ],
   "source": [
    "text = \"HelloWorld\"\n",
    "print(text[0])  # First character\n",
    "print(text[4])  # Fifth character\n",
    "print(text[-1])  # Last character\n",
    "print(text[-5])  # Fifth character from the end"
   ]
  },
  {
   "cell_type": "markdown",
   "id": "e8cfa8ae",
   "metadata": {},
   "source": [
    "### concating strings"
   ]
  },
  {
   "cell_type": "code",
   "execution_count": 8,
   "id": "549328c6",
   "metadata": {},
   "outputs": [
    {
     "name": "stdout",
     "output_type": "stream",
     "text": [
      "Hello World\n"
     ]
    }
   ],
   "source": [
    "string1 = \"Hello\"\n",
    "string2 = \"World\"\n",
    "result = string1 + \" \" + string2\n",
    "print(result)  # Output: Hello World"
   ]
  },
  {
   "cell_type": "code",
   "execution_count": 10,
   "id": "0cee02c7",
   "metadata": {},
   "outputs": [
    {
     "name": "stdout",
     "output_type": "stream",
     "text": [
      "henry\n",
      "30\n",
      "<class 'str'>\n"
     ]
    }
   ],
   "source": [
    "age = \"30\"\n",
    "name = \"henry\"\n",
    "city = \"New York\"\n",
    "print(name)\n",
    "print(age)\n",
    "print(type(age))"
   ]
  },
  {
   "cell_type": "markdown",
   "id": "d656061d",
   "metadata": {},
   "source": [
    "#### functions of string\n",
    "- len()\n",
    "- upper()\n",
    "- lower()\n",
    "- replace()\n",
    "- count()\n"
   ]
  },
  {
   "cell_type": "code",
   "execution_count": 15,
   "id": "de86cbec",
   "metadata": {},
   "outputs": [
    {
     "name": "stdout",
     "output_type": "stream",
     "text": [
      "11\n",
      "HELLO WORLD\n",
      "hello world\n",
      "Hello Python\n",
      "2\n",
      "Hello world\n",
      "This is a paragraph\n",
      "This Is A Paragraph\n",
      "This is a paragraph\n"
     ]
    }
   ],
   "source": [
    "string = \"Hello World\"\n",
    "print(len(string))  # Length of the string\n",
    "print(string.upper())  # Convert to uppercase\n",
    "print(string.lower())  # Convert to lowercase\n",
    "print(string.replace(\"World\", \"Python\"))  # Replace substring\n",
    "print(string.count(\"o\"))  # Count occurrences of 'o'\n",
    "print(string.capitalize())  # Capitalize the first letter\n",
    "paragraph = \"This is a paragraph\"\n",
    "print(paragraph)  # Print the paragraph with newlines\n",
    "print(paragraph.title())  # Convert to title case\n",
    "print(paragraph.capitalize())  # Capitalize the first letter\n"
   ]
  },
  {
   "cell_type": "code",
   "execution_count": 21,
   "id": "45e7cbf9",
   "metadata": {},
   "outputs": [
    {
     "name": "stdout",
     "output_type": "stream",
     "text": [
      "    Hello, World!\n",
      "Hello, World!\n"
     ]
    }
   ],
   "source": [
    "text = \"    Hello, World!\"\n",
    "print(text)\n",
    "print(text.strip())  # Remove leading and trailing whitespace"
   ]
  },
  {
   "cell_type": "code",
   "execution_count": 26,
   "id": "c181eb04",
   "metadata": {},
   "outputs": [
    {
     "name": "stdout",
     "output_type": "stream",
     "text": [
      "12\n",
      "0\n",
      "True\n",
      "False\n",
      "['Python', 'is', 'a', 'programming', 'language.']\n"
     ]
    }
   ],
   "source": [
    "sentence = \"Python is a programming language.\"\n",
    "print(sentence.find(\"programming\"))  # Find the index of a substring\n",
    "print(sentence.find(\"Python\"))  # Find the index of a substring\n",
    "print(sentence.startswith(\"Python\"))  # Check if the string starts with a substring\n",
    "print(sentence.endswith(\"is.\"))  # Check if the string ends with a substring\n",
    "print(sentence.split())  # Split the string into a list of words"
   ]
  },
  {
   "cell_type": "code",
   "execution_count": 27,
   "id": "f257fde4",
   "metadata": {},
   "outputs": [
    {
     "name": "stdout",
     "output_type": "stream",
     "text": [
      "myste\n",
      "rious\n"
     ]
    }
   ],
   "source": [
    "string =\"mysterious\"\n",
    "print(string[0:5])  # Output: myster\n",
    "print(string[5:])   # Output: rious"
   ]
  },
  {
   "cell_type": "markdown",
   "id": "64885255",
   "metadata": {},
   "source": [
    "string repetition"
   ]
  },
  {
   "cell_type": "code",
   "execution_count": 28,
   "id": "65c03692",
   "metadata": {},
   "outputs": [
    {
     "name": "stdout",
     "output_type": "stream",
     "text": [
      "hellohellohello\n"
     ]
    }
   ],
   "source": [
    "word = \"hello\"\n",
    "print(word * 3)  # Output: hellohellohello"
   ]
  },
  {
   "cell_type": "markdown",
   "id": "22dd6d19",
   "metadata": {},
   "source": [
    "check substring"
   ]
  },
  {
   "cell_type": "code",
   "execution_count": 33,
   "id": "eb67a90b",
   "metadata": {},
   "outputs": [
    {
     "name": "stdout",
     "output_type": "stream",
     "text": [
      "True\n",
      "False\n",
      "True\n",
      "False\n"
     ]
    }
   ],
   "source": [
    "text = \"Hello, World!\"\n",
    "print('Hello' in text)  # Check if 'hello' is in the text\n",
    "print('Python' in text)  # Check if 'Python' is not in the text\n",
    "text2 = \"Python is a programming language.\"\n",
    "print(\"programming\" in text2)  # Check if 'programming' is in the text2\n",
    "print(\"Python\" not in text2)  # Check if 'Python' is not in"
   ]
  },
  {
   "cell_type": "markdown",
   "id": "66e3e37b",
   "metadata": {},
   "source": [
    "multiline string"
   ]
  },
  {
   "cell_type": "code",
   "execution_count": 34,
   "id": "b303bf5a",
   "metadata": {},
   "outputs": [
    {
     "name": "stdout",
     "output_type": "stream",
     "text": [
      "Roses are red,\n",
      "Violets are blue,\n",
      "Sugar is sweet,\n",
      "And so are you.\n"
     ]
    }
   ],
   "source": [
    "poem = \"\"\"Roses are red,\n",
    "Violets are blue,\n",
    "Sugar is sweet,\n",
    "And so are you.\"\"\"\n",
    "print(poem)  # Print the multiline string"
   ]
  },
  {
   "cell_type": "code",
   "execution_count": 35,
   "id": "7ca3e325",
   "metadata": {},
   "outputs": [
    {
     "name": "stdout",
     "output_type": "stream",
     "text": [
      "h\n",
      "e\n",
      "l\n",
      "l\n",
      "o\n"
     ]
    }
   ],
   "source": [
    "word = \"hello\"\n",
    "for char in word:\n",
    "    print(char)  # Print each character in the string"
   ]
  },
  {
   "cell_type": "code",
   "execution_count": 41,
   "id": "1f905008",
   "metadata": {},
   "outputs": [
    {
     "name": "stdout",
     "output_type": "stream",
     "text": [
      "python \n",
      "python \n",
      "python \n",
      "python \n",
      "python \n",
      "index 0: H\n",
      "index 1: e\n",
      "index 2: l\n",
      "index 3: l\n",
      "index 4: o\n",
      "index 5: ,\n",
      "index 6:  \n",
      "index 7: W\n",
      "index 8: o\n",
      "index 9: r\n",
      "index 10: l\n",
      "index 11: d\n",
      "index 12: !\n"
     ]
    }
   ],
   "source": [
    "word = \"python \"\n",
    "for i in range(5):\n",
    "    print(word)  # Print the string 5 times\n",
    "text = \"Hello, World!\"\n",
    "for i in range(len(text)):\n",
    "    print(f\"index {i}: {text[i]}\")  # Print character with index"
   ]
  },
  {
   "cell_type": "markdown",
   "id": "8cc9af96",
   "metadata": {},
   "source": [
    "- wap to take your name as input and print it \n",
    "- print 1st n last character of the string \"python\"\n",
    "- find the lenth of the string \"hello world\" using len function\n",
    "- concate 2 strings \"good\" and \"morning\"\n",
    "- convert \"hello\" into uppercase\n",
    "- print the character at index 2 of string \"school\"\n",
    "- take a sentence and count how many times a appears\n",
    "- create a string and repeat it 3 times\n",
    "- split a sentence into list\n"
   ]
  },
  {
   "cell_type": "code",
   "execution_count": 42,
   "id": "77aae0ac",
   "metadata": {},
   "outputs": [
    {
     "name": "stdout",
     "output_type": "stream",
     "text": [
      "deepa\n"
     ]
    }
   ],
   "source": [
    "name = \"deepa\"\n",
    "print(name) "
   ]
  },
  {
   "cell_type": "code",
   "execution_count": 43,
   "id": "38f3901b",
   "metadata": {},
   "outputs": [
    {
     "name": "stdout",
     "output_type": "stream",
     "text": [
      "p\n",
      "n\n"
     ]
    }
   ],
   "source": [
    "string= \"python\"\n",
    "print(string[0]) \n",
    "print(string[-1])"
   ]
  },
  {
   "cell_type": "code",
   "execution_count": 44,
   "id": "5b5c2918",
   "metadata": {},
   "outputs": [
    {
     "name": "stdout",
     "output_type": "stream",
     "text": [
      "11\n"
     ]
    }
   ],
   "source": [
    "string= \"hello world\"\n",
    "print(len(string)) "
   ]
  },
  {
   "cell_type": "code",
   "execution_count": 45,
   "id": "6863962f",
   "metadata": {},
   "outputs": [
    {
     "name": "stdout",
     "output_type": "stream",
     "text": [
      "good morning\n"
     ]
    }
   ],
   "source": [
    "str1 = \"good\"\n",
    "str2 = \"morning\"\n",
    "result = str1 + \" \" + str2\n",
    "print(result)  "
   ]
  },
  {
   "cell_type": "code",
   "execution_count": 46,
   "id": "6ca46d2d",
   "metadata": {},
   "outputs": [
    {
     "name": "stdout",
     "output_type": "stream",
     "text": [
      "HELLO\n"
     ]
    }
   ],
   "source": [
    "word = \"hello\"\n",
    "print(word.upper())  "
   ]
  },
  {
   "cell_type": "code",
   "execution_count": 47,
   "id": "46fd874b",
   "metadata": {},
   "outputs": [
    {
     "name": "stdout",
     "output_type": "stream",
     "text": [
      "h\n"
     ]
    }
   ],
   "source": [
    "string = \"school\"\n",
    "print(string[2])  "
   ]
  },
  {
   "cell_type": "code",
   "execution_count": 48,
   "id": "6f0df93b",
   "metadata": {},
   "outputs": [
    {
     "name": "stdout",
     "output_type": "stream",
     "text": [
      "The letter 'a' appears 2 times in the sentence.\n"
     ]
    }
   ],
   "source": [
    "sentence = \"This is a sample sentence.\"\n",
    "count_a = sentence.count('a')\n",
    "print(f\"The letter 'a' appears {count_a} times in the sentence.\")"
   ]
  },
  {
   "cell_type": "code",
   "execution_count": 49,
   "id": "1efff2e3",
   "metadata": {},
   "outputs": [
    {
     "name": "stdout",
     "output_type": "stream",
     "text": [
      "deepadeepadeepa\n"
     ]
    }
   ],
   "source": [
    "str = \"deepa\"\n",
    "print(str*3)"
   ]
  },
  {
   "cell_type": "code",
   "execution_count": 50,
   "id": "bbccca4c",
   "metadata": {},
   "outputs": [
    {
     "name": "stdout",
     "output_type": "stream",
     "text": [
      "['This', 'is', 'a', 'sample', 'sentence.']\n"
     ]
    }
   ],
   "source": [
    "sentence = \"This is a sample sentence.\"\n",
    "print(sentence.split())"
   ]
  },
  {
   "cell_type": "code",
   "execution_count": 3,
   "id": "3caf9fa4",
   "metadata": {},
   "outputs": [
    {
     "name": "stdout",
     "output_type": "stream",
     "text": [
      "gram\n"
     ]
    }
   ],
   "source": [
    "word = \"programming\"\n",
    "print(word[3:7])"
   ]
  },
  {
   "cell_type": "code",
   "execution_count": 9,
   "id": "d5b7a85a",
   "metadata": {},
   "outputs": [
    {
     "name": "stdout",
     "output_type": "stream",
     "text": [
      "atihsk\n"
     ]
    }
   ],
   "source": [
    "name = \"akshita\"\n",
    "print(name[-1:-7:-1])  # This will print characters in reverse order from last to first"
   ]
  },
  {
   "cell_type": "code",
   "execution_count": 10,
   "id": "19d61979",
   "metadata": {},
   "outputs": [
    {
     "name": "stdout",
     "output_type": "stream",
     "text": [
      "good evening\n"
     ]
    }
   ],
   "source": [
    "word = \"good morning\"\n",
    "replace_word = word.replace(\"morning\", \"evening\")\n",
    "print(replace_word)  # Output: good evening"
   ]
  },
  {
   "cell_type": "code",
   "execution_count": 11,
   "id": "af70f304",
   "metadata": {},
   "outputs": [
    {
     "name": "stdout",
     "output_type": "stream",
     "text": [
      "False\n"
     ]
    }
   ],
   "source": [
    "word = \"hello\"\n",
    "print(word.isupper())  # Check if the string is uppercase"
   ]
  },
  {
   "cell_type": "code",
   "execution_count": 14,
   "id": "478c2156",
   "metadata": {},
   "outputs": [
    {
     "name": "stdout",
     "output_type": "stream",
     "text": [
      "The number of vowels in the errryuij is: 3\n"
     ]
    }
   ],
   "source": [
    "# input a string and print how many vowels are there in the string\n",
    "string = input(\"Enter a string: \")\n",
    "vowels = \"aeiouAEIOU\"\n",
    "count = sum(1 for char in string if char in vowels)\n",
    "print(f\"The number of vowels in the {string } is: {count}\")\n"
   ]
  }
 ],
 "metadata": {
  "kernelspec": {
   "display_name": "base",
   "language": "python",
   "name": "python3"
  },
  "language_info": {
   "codemirror_mode": {
    "name": "ipython",
    "version": 3
   },
   "file_extension": ".py",
   "mimetype": "text/x-python",
   "name": "python",
   "nbconvert_exporter": "python",
   "pygments_lexer": "ipython3",
   "version": "3.13.2"
  }
 },
 "nbformat": 4,
 "nbformat_minor": 5
}
