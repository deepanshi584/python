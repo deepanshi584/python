{
 "cells": [
  {
   "cell_type": "code",
   "execution_count": 1,
   "id": "10350eb7",
   "metadata": {},
   "outputs": [],
   "source": [
    "import numpy as np"
   ]
  },
  {
   "cell_type": "code",
   "execution_count": 2,
   "id": "3ad15937",
   "metadata": {},
   "outputs": [
    {
     "name": "stdout",
     "output_type": "stream",
     "text": [
      "[1 2 3]\n",
      "[4 5 6]\n"
     ]
    },
    {
     "data": {
      "text/plain": [
       "numpy.ndarray"
      ]
     },
     "execution_count": 2,
     "metadata": {},
     "output_type": "execute_result"
    }
   ],
   "source": [
    "a = np.array([1, 2, 3])\n",
    "b = np.array([4, 5, 6])\n",
    "print(a)\n",
    "print(b)\n",
    "type(a)\n",
    "type(b)"
   ]
  },
  {
   "cell_type": "markdown",
   "id": "543a055f",
   "metadata": {},
   "source": [
    "basic operations of array"
   ]
  },
  {
   "cell_type": "code",
   "execution_count": 3,
   "id": "06fe44e9",
   "metadata": {},
   "outputs": [
    {
     "name": "stdout",
     "output_type": "stream",
     "text": [
      "[5 7 9]\n",
      "[-3 -3 -3]\n",
      "[ 4 10 18]\n",
      "[0.25 0.4  0.5 ]\n"
     ]
    }
   ],
   "source": [
    "a = np.array([1, 2, 3])\n",
    "b = np.array([4, 5, 6])\n",
    "print(a+b)  # Element-wise addition\n",
    "print(a-b)  # Element-wise subtraction\n",
    "print(a*b)  # Element-wise multiplication\n",
    "print(a/b)  # Element-wise division"
   ]
  },
  {
   "cell_type": "code",
   "execution_count": 4,
   "id": "5baa0371",
   "metadata": {},
   "outputs": [
    {
     "name": "stdout",
     "output_type": "stream",
     "text": [
      "[[1 2 3]\n",
      " [4 5 6]]\n"
     ]
    }
   ],
   "source": [
    "# creating a 2D array\n",
    "arr2d = np.array([[1, 2, 3], [4, 5, 6]])\n",
    "print(arr2d)"
   ]
  },
  {
   "cell_type": "code",
   "execution_count": 5,
   "id": "0b4771ed",
   "metadata": {},
   "outputs": [],
   "source": [
    "# numpy provides a powerful array object that is faster and more efficient than Python's built-in lists.\n",
    "# It supports a wide range of mathematical operations and is widely used in data science and machine learning\n",
    "# for numerical computations.\n",
    "# Numpy arrays are homogeneous, meaning all elements must be of the same type.\n",
    "# They can be multi-dimensional, allowing for complex data structures like matrices and tensors.\n",
    "# Numpy also provides a variety of functions for creating arrays, performing mathematical operations,\n",
    "# and manipulating data efficiently.\n",
    "# numpy is multidimensional so its type is ndarray"
   ]
  },
  {
   "cell_type": "code",
   "execution_count": 6,
   "id": "0fa23452",
   "metadata": {},
   "outputs": [
    {
     "name": "stdout",
     "output_type": "stream",
     "text": [
      "[[[1 2 9]\n",
      "  [3 4 7]\n",
      "  [5 6 8]]]\n"
     ]
    }
   ],
   "source": [
    "# creating 3d array\n",
    "arr3d = np.array([[[1, 2,9], [3, 4,7],[5,6,8]]])\n",
    "print(arr3d)"
   ]
  },
  {
   "cell_type": "code",
   "execution_count": null,
   "id": "45191d11",
   "metadata": {},
   "outputs": [
    {
     "name": "stdout",
     "output_type": "stream",
     "text": [
      "(1, 3, 3)\n",
      "(2, 3)\n",
      "3\n",
      "2\n",
      "int64\n",
      "int64\n"
     ]
    }
   ],
   "source": [
    "# some basic methods of numpy\n",
    "print(np.shape(arr3d))  # Get the shape of the array\n",
    "print(np.shape(arr2d)) \n",
    "print(np.ndim(arr3d))   # Get the number of dimensions\n",
    "print(np.ndim(arr2d))  \n",
    "print(arr3d.dtype)  # Get the data type of the array elements----->tells the type of elements in the array with bytes\n",
    "print(arr2d.dtype)"
   ]
  },
  {
   "cell_type": "code",
   "execution_count": 11,
   "id": "816dfb58",
   "metadata": {},
   "outputs": [
    {
     "data": {
      "text/plain": [
       "array([0, 1, 2, 3, 4, 5, 6, 7, 8, 9])"
      ]
     },
     "execution_count": 11,
     "metadata": {},
     "output_type": "execute_result"
    }
   ],
   "source": [
    "np.arange(10)  # Create an array with values from 0 to 9----->work like range but returns an array\n"
   ]
  },
  {
   "cell_type": "code",
   "execution_count": 13,
   "id": "56405007",
   "metadata": {},
   "outputs": [
    {
     "data": {
      "text/plain": [
       "array([1, 3, 5, 7, 9])"
      ]
     },
     "execution_count": 13,
     "metadata": {},
     "output_type": "execute_result"
    }
   ],
   "source": [
    "np.arange(1, 10, 2)  # Create an array with values from 1 to 9 with a step of 2\n"
   ]
  },
  {
   "cell_type": "code",
   "execution_count": 12,
   "id": "ca349124",
   "metadata": {},
   "outputs": [
    {
     "data": {
      "text/plain": [
       "array([-10,  -9,  -8,  -7,  -6,  -5,  -4,  -3,  -2,  -1])"
      ]
     },
     "execution_count": 12,
     "metadata": {},
     "output_type": "execute_result"
    }
   ],
   "source": [
    "np.arange(-10,0)"
   ]
  },
  {
   "cell_type": "code",
   "execution_count": 15,
   "id": "6a1db97b",
   "metadata": {},
   "outputs": [
    {
     "data": {
      "text/plain": [
       "array([[8, 1, 7],\n",
       "       [7, 4, 6],\n",
       "       [1, 2, 6]], dtype=int32)"
      ]
     },
     "execution_count": 15,
     "metadata": {},
     "output_type": "execute_result"
    }
   ],
   "source": [
    "np.random.randint(1, 10, size=(3, 3))  # Create a 3x3 array with random integers between 1 and 10\n",
    "# np.random.rand(3, 3)  # Create a 3x3 array with random floats between 0 and 1"
   ]
  },
  {
   "cell_type": "code",
   "execution_count": 16,
   "id": "8fbc2337",
   "metadata": {},
   "outputs": [
    {
     "name": "stdout",
     "output_type": "stream",
     "text": [
      "[[1 2 3]\n",
      " [4 5 6]]\n",
      "[[4 5 6]\n",
      " [7 8 9]]\n"
     ]
    }
   ],
   "source": [
    "x= np.array([[1, 2, 3],[4, 5, 6]])\n",
    "y= np.array([[4, 5, 6],[7, 8, 9]])\n",
    "print(x)\n",
    "print(y)"
   ]
  },
  {
   "cell_type": "code",
   "execution_count": 17,
   "id": "683dbe87",
   "metadata": {},
   "outputs": [
    {
     "name": "stdout",
     "output_type": "stream",
     "text": [
      "[[ 5  7  9]\n",
      " [11 13 15]]\n",
      "[[-3 -3 -3]\n",
      " [-3 -3 -3]]\n",
      "[[ 4 10 18]\n",
      " [28 40 54]]\n"
     ]
    }
   ],
   "source": [
    "print(x+y)  # Element-wise addition\n",
    "print(x-y)  # Element-wise subtraction\n",
    "print(x*y)  # Element-wise multiplication"
   ]
  },
  {
   "cell_type": "code",
   "execution_count": 21,
   "id": "c5ce5a1e",
   "metadata": {},
   "outputs": [
    {
     "name": "stdout",
     "output_type": "stream",
     "text": [
      "[[ 58  64]\n",
      " [139 154]]\n",
      "[[ 58  64]\n",
      " [139 154]]\n"
     ]
    }
   ],
   "source": [
    "# matrix multiplication----->we use @ operator for matrix multiplication\n",
    "a=np.array([[1, 2, 3],[4, 5, 6]])\n",
    "b=np.array([[7, 8],[9, 10],[11, 12]])\n",
    "print(a @ b)  # Matrix multiplication\n",
    "# or we can use np.dot(a, b) for matrix multiplication\n",
    "print(np.dot(a, b))  # Matrix multiplication using np.dot"
   ]
  },
  {
   "cell_type": "code",
   "execution_count": 23,
   "id": "e0ea4609",
   "metadata": {},
   "outputs": [
    {
     "name": "stdout",
     "output_type": "stream",
     "text": [
      "720\n"
     ]
    },
    {
     "data": {
      "text/plain": [
       "np.int64(665280)"
      ]
     },
     "execution_count": 23,
     "metadata": {},
     "output_type": "execute_result"
    }
   ],
   "source": [
    "# product of all elements in an array\n",
    "print(np.prod(arr2d))  # Product of all elements in arr2d\n",
    "a.prod()  # Product of all elements in a\n",
    "b.prod()  # Product of all elements in b"
   ]
  },
  {
   "cell_type": "code",
   "execution_count": 24,
   "id": "0e7b57fb",
   "metadata": {},
   "outputs": [
    {
     "data": {
      "text/plain": [
       "np.float64(9.5)"
      ]
     },
     "execution_count": 24,
     "metadata": {},
     "output_type": "execute_result"
    }
   ],
   "source": [
    "a.mean()  # Mean of all elements in a\n",
    "b.mean()  # Mean of all elements in b"
   ]
  },
  {
   "cell_type": "code",
   "execution_count": 25,
   "id": "1492c577",
   "metadata": {},
   "outputs": [
    {
     "data": {
      "text/plain": [
       "10"
      ]
     },
     "execution_count": 25,
     "metadata": {},
     "output_type": "execute_result"
    }
   ],
   "source": [
    "round(a.mean())  # Round the mean of a to the nearest integer\n",
    "round(b.mean())  # Round the mean of b to the nearest integer"
   ]
  },
  {
   "cell_type": "code",
   "execution_count": 26,
   "id": "aff29963",
   "metadata": {},
   "outputs": [
    {
     "data": {
      "text/plain": [
       "array([2.5, 3.5, 4.5])"
      ]
     },
     "execution_count": 26,
     "metadata": {},
     "output_type": "execute_result"
    }
   ],
   "source": [
    "a.mean(axis=0)  # Mean along the first axis (columns)"
   ]
  },
  {
   "cell_type": "code",
   "execution_count": 27,
   "id": "dbc0db32",
   "metadata": {},
   "outputs": [
    {
     "data": {
      "text/plain": [
       "array([2., 5.])"
      ]
     },
     "execution_count": 27,
     "metadata": {},
     "output_type": "execute_result"
    }
   ],
   "source": [
    "a.mean(axis=1)  # Mean along the second axis (rows)"
   ]
  },
  {
   "cell_type": "code",
   "execution_count": 28,
   "id": "355f8ffc",
   "metadata": {},
   "outputs": [
    {
     "name": "stdout",
     "output_type": "stream",
     "text": [
      "21\n",
      "2.9166666666666665\n",
      "1.707825127659933\n"
     ]
    }
   ],
   "source": [
    "a=np.array([[1, 2, 3],[4, 5, 6]])\n",
    "print(a.sum())  # Sum of all elements in a\n",
    "print(a.var())  # Variance of all elements in a\n",
    "print(a.std())  # Standard deviation of all elements in a"
   ]
  },
  {
   "cell_type": "code",
   "execution_count": 29,
   "id": "8122b83e",
   "metadata": {},
   "outputs": [
    {
     "name": "stdout",
     "output_type": "stream",
     "text": [
      "5.0\n",
      "3.0\n",
      "7.0\n"
     ]
    }
   ],
   "source": [
    "x=np.array([1,2,3,4,5,6,7,8,9])\n",
    "print(np.percentile(x, 50))  # 50th percentile (median)\n",
    "print(np.percentile(x, 25))  # 25th percentile (first quartile)\n",
    "print(np.percentile(x, 75))  # 75th percentile (third quartile"
   ]
  },
  {
   "cell_type": "code",
   "execution_count": 30,
   "id": "af2904cb",
   "metadata": {},
   "outputs": [
    {
     "name": "stdout",
     "output_type": "stream",
     "text": [
      "[[74 11 90 12]\n",
      " [78 99 17 98]\n",
      " [63 39 59 62]\n",
      " [67 98 28 76]]\n"
     ]
    }
   ],
   "source": [
    "x=np.random.randint(11,100,(4,4))  # Create a 4x4 array with random integers between 11 and 100\n",
    "print(x)"
   ]
  }
 ],
 "metadata": {
  "kernelspec": {
   "display_name": "base",
   "language": "python",
   "name": "python3"
  },
  "language_info": {
   "codemirror_mode": {
    "name": "ipython",
    "version": 3
   },
   "file_extension": ".py",
   "mimetype": "text/x-python",
   "name": "python",
   "nbconvert_exporter": "python",
   "pygments_lexer": "ipython3",
   "version": "3.13.2"
  }
 },
 "nbformat": 4,
 "nbformat_minor": 5
}
