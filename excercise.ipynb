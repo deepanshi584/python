{
 "cells": [
  {
   "cell_type": "markdown",
   "id": "5c84d903",
   "metadata": {},
   "source": [
    "##### wap to reverse a number"
   ]
  },
  {
   "cell_type": "code",
   "execution_count": 3,
   "id": "b4bd14dd",
   "metadata": {},
   "outputs": [
    {
     "name": "stdout",
     "output_type": "stream",
     "text": [
      "Reversed number is: 76\n"
     ]
    }
   ],
   "source": [
    "num = int(input(\"Enter a number: \"))\n",
    "rev = 0\n",
    "while num > 0:\n",
    "    # print(num,rev)\n",
    "    digit = num % 10\n",
    "    rev = rev * 10 + digit\n",
    "    num //= 10\n",
    "print(\"Reversed number is:\", rev)\n",
    "if rev == 0:\n",
    "    print(\"The reversed number is zero.\")"
   ]
  },
  {
   "cell_type": "markdown",
   "id": "9b893198",
   "metadata": {},
   "source": [
    "##### wap to find whether a number is armstrong or not"
   ]
  },
  {
   "cell_type": "code",
   "execution_count": 5,
   "id": "b30b3ae7",
   "metadata": {},
   "outputs": [
    {
     "name": "stdout",
     "output_type": "stream",
     "text": [
      "789 is not an Armstrong number.\n"
     ]
    }
   ],
   "source": [
    "num = int(input(\"Enter a number: \"))\n",
    "sum = 0\n",
    "arm = num      #arm is a temporary variable to hold the original number\n",
    "while arm > 0:\n",
    "    digit = arm % 10\n",
    "    sum += digit ** 3\n",
    "    arm //= 10\n",
    "if sum == num:\n",
    "    print(num, \"is an Armstrong number.\")\n",
    "else:\n",
    "    print(num, \"is not an Armstrong number.\")"
   ]
  },
  {
   "cell_type": "markdown",
   "id": "229c68a8",
   "metadata": {},
   "source": [
    "### wap to find whether a number is palindrome or not\n"
   ]
  },
  {
   "cell_type": "code",
   "execution_count": null,
   "id": "0c8c3daa",
   "metadata": {},
   "outputs": [
    {
     "name": "stdout",
     "output_type": "stream",
     "text": [
      "676 is a palindrome.\n"
     ]
    }
   ],
   "source": [
    "num= int(input(\"Enter a number: \"))\n",
    "temp = num\n",
    "rev = 0\n",
    "while temp > 0:\n",
    "    d = temp % 10\n",
    "    rev = rev * 10 + d\n",
    "    temp //= 10\n",
    "if num == rev:\n",
    "    print(num, \"is a palindrome.\")\n",
    "    \n",
    "else:\n",
    "    print(num, \"is not a palindrome.\")"
   ]
  },
  {
   "cell_type": "markdown",
   "id": "538541c4",
   "metadata": {},
   "source": [
    "#### wap to check whether a number is spy or not\n"
   ]
  },
  {
   "cell_type": "code",
   "execution_count": 7,
   "id": "dd65028f",
   "metadata": {},
   "outputs": [
    {
     "name": "stdout",
     "output_type": "stream",
     "text": [
      "The number is a spy number.\n"
     ]
    }
   ],
   "source": [
    "num = int(input(\"Enter a number: \"))\n",
    "sum = 0\n",
    "prod = 1 \n",
    "while num > 0:\n",
    "    d = num % 10\n",
    "    sum += d\n",
    "    prod *= d\n",
    "    num //= 10\n",
    "if sum == prod:\n",
    "    print(\"The number is a spy number.\")\n",
    "else:\n",
    "    print(\"The number is not a spy number.\")"
   ]
  },
  {
   "cell_type": "markdown",
   "id": "e00938c7",
   "metadata": {},
   "source": [
    "#### factorial of a number\n"
   ]
  },
  {
   "cell_type": "code",
   "execution_count": 5,
   "id": "f57e459d",
   "metadata": {},
   "outputs": [
    {
     "name": "stdout",
     "output_type": "stream",
     "text": [
      "The factorial of 5 is 120.\n"
     ]
    }
   ],
   "source": [
    "num = int(input(\"Enter a number: \"))\n",
    "fact = 1\n",
    "while num > 0:\n",
    "    d = num % 10\n",
    "    for i in range(1, d + 1):\n",
    "        fact *= i\n",
    "        num //= 10\n",
    "    print(f\"The factorial of {d} is {fact}.\")\n",
    "  \n",
    "    "
   ]
  },
  {
   "cell_type": "code",
   "execution_count": 1,
   "id": "22d91720",
   "metadata": {},
   "outputs": [
    {
     "name": "stdout",
     "output_type": "stream",
     "text": [
      "False\n"
     ]
    }
   ],
   "source": [
    "print(0.1 + 0.2 == 0.3)  # This will print False due to floating-point precision issues"
   ]
  },
  {
   "cell_type": "code",
   "execution_count": 2,
   "id": "83151baf",
   "metadata": {},
   "outputs": [
    {
     "name": "stdout",
     "output_type": "stream",
     "text": [
      "AplicAtion\n"
     ]
    }
   ],
   "source": [
    "str1 = \"Aplication\"\n",
    "str2 = str1.replace('a', 'A')\n",
    "print(str2)  # Output: \"Application\""
   ]
  },
  {
   "cell_type": "code",
   "execution_count": null,
   "id": "7c8be0e7",
   "metadata": {},
   "outputs": [],
   "source": [
    "str1 = \"Stack of books\"\n",
    "print(len(str1))  # Output: 16"
   ]
  },
  {
   "cell_type": "code",
   "execution_count": 6,
   "id": "b2b84d10",
   "metadata": {},
   "outputs": [
    {
     "name": "stdout",
     "output_type": "stream",
     "text": [
      "[45, 12, 7, 89]\n"
     ]
    }
   ],
   "source": [
    "lst1 = [10,45,5,12,3,7,0,89]\n",
    "otput=[45,12,7,89]\n",
    "otput2= lst1[1:6:2]+[lst1[-1]]\n",
    "print(otput2)  # Output: [45, 12, 7, 89]"
   ]
  },
  {
   "cell_type": "code",
   "execution_count": 9,
   "id": "a6671f00",
   "metadata": {},
   "outputs": [
    {
     "name": "stdout",
     "output_type": "stream",
     "text": [
      "simon\n"
     ]
    }
   ],
   "source": [
    "str1 = \"john,simon,aryan\"\n",
    "print(str1[-11:-6])  # Output: \"john\"   "
   ]
  },
  {
   "cell_type": "code",
   "execution_count": 12,
   "id": "3795d0e2",
   "metadata": {},
   "outputs": [
    {
     "name": "stdout",
     "output_type": "stream",
     "text": [
      "4\n",
      "{4}\n"
     ]
    }
   ],
   "source": [
    "list1 =[1,3,4,2]\n",
    "x= list1.pop(2)\n",
    "print(x)\n",
    "print(set([x]))"
   ]
  },
  {
   "cell_type": "code",
   "execution_count": null,
   "id": "b1dc89b7",
   "metadata": {},
   "outputs": [],
   "source": [
    "tup=(\"a\", \"b\", \"c\", \"d\", \"e\", \"f\", \"g\", \"h\", \"i\", \"j\")\n",
    "print(tup)  # Output: ('a', 'b', 'c', 'd', 'e', 'f', 'g', 'h', 'i', 'j')"
   ]
  },
  {
   "cell_type": "code",
   "execution_count": 13,
   "id": "5c477a27",
   "metadata": {},
   "outputs": [
    {
     "name": "stdout",
     "output_type": "stream",
     "text": [
      "86.16666666666667\n"
     ]
    }
   ],
   "source": [
    "list1 =[80,66,94,87,90,100]\n",
    "print(sum(list1)/len(list1))  # Output: 517"
   ]
  },
  {
   "cell_type": "code",
   "execution_count": null,
   "id": "486ccf3f",
   "metadata": {},
   "outputs": [],
   "source": [
    "a=[10,20]\n",
    "b=a\n",
    "b+= [30,40]\n",
    "print(a)  # Output: [10, 20, 30, 40]\n",
    "print(b)  # Output: [10, 20, 30, 40]"
   ]
  },
  {
   "cell_type": "code",
   "execution_count": 16,
   "id": "417b6a2d",
   "metadata": {},
   "outputs": [
    {
     "name": "stdout",
     "output_type": "stream",
     "text": [
      "{'a': 1, 'b': 3, 'c': 3}\n",
      "3\n"
     ]
    }
   ],
   "source": [
    "dict1 = {'a': 1, 'b': 2, 'c': 3}\n",
    "dict1['b'] = 3  # Update the value for key 'b'\n",
    "print(dict1)  # Output: {'a': 1, 'b': 3\n",
    "print(dict1.get(\"b\"))  # Output: 3"
   ]
  }
 ],
 "metadata": {
  "kernelspec": {
   "display_name": "base",
   "language": "python",
   "name": "python3"
  },
  "language_info": {
   "codemirror_mode": {
    "name": "ipython",
    "version": 3
   },
   "file_extension": ".py",
   "mimetype": "text/x-python",
   "name": "python",
   "nbconvert_exporter": "python",
   "pygments_lexer": "ipython3",
   "version": "3.13.2"
  }
 },
 "nbformat": 4,
 "nbformat_minor": 5
}
