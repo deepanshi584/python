{
 "cells": [
  {
   "cell_type": "code",
   "execution_count": null,
   "id": "aa01ee12",
   "metadata": {},
   "outputs": [
    {
     "name": "stdout",
     "output_type": "stream",
     "text": [
      "{'name': 'John Doe', 'age': 20, 'courses': ['Math', 'Science', 'History'], 'grades': {'Math': 90, 'Science': 85, 'History': 88}}\n"
     ]
    }
   ],
   "source": [
    "student = {\n",
    "    \"name\": \"John Doe\",\n",
    "    \"age\": 20,\n",
    "    \"courses\": [\"Math\", \"Science\", \"History\"],\n",
    "    \"grades\": {\n",
    "        \"Math\": 90,\n",
    "        \"Science\": 85,\n",
    "        \"History\": 88}\n",
    "}\n",
    "print(student\n",
    "      )"
   ]
  },
  {
   "cell_type": "markdown",
   "id": "3da2d338",
   "metadata": {},
   "source": [
    "- how to declare dictionary\n",
    "- how to access key value pair\n",
    "- loops in dictionary\n",
    "- nested dictionary"
   ]
  },
  {
   "cell_type": "markdown",
   "id": "761b4612",
   "metadata": {},
   "source": [
    "##### declare a list in dictionary"
   ]
  },
  {
   "cell_type": "code",
   "execution_count": 2,
   "id": "1c2e1d47",
   "metadata": {},
   "outputs": [
    {
     "name": "stdout",
     "output_type": "stream",
     "text": [
      "{'lucknow': [35, 36, 37], 'delhi': [30, 31, 32], 'mumbai': [28, 29, 30]}\n"
     ]
    }
   ],
   "source": [
    "temp = {\n",
    "    'lucknow': [35, 36, 37],\n",
    "    'delhi': [30, 31, 32],\n",
    "    'mumbai': [28, 29, 30]\n",
    "}\n",
    "print (temp)"
   ]
  },
  {
   "cell_type": "markdown",
   "id": "6a61e8ce",
   "metadata": {},
   "source": [
    "##### dict method for converting in dictionary"
   ]
  },
  {
   "cell_type": "code",
   "execution_count": 11,
   "id": "df537e62",
   "metadata": {},
   "outputs": [
    {
     "name": "stdout",
     "output_type": "stream",
     "text": [
      "{'name': 'John Doe', 'age': 20, 'course': 'bca'}\n",
      "John Doe\n",
      "20\n",
      "85\n",
      "{'name': 'John Doe', 'age': 20, 'course': 'bca', 'marks': 85}\n",
      "dict_keys(['name', 'age', 'course', 'marks'])\n",
      "dict_values(['John Doe', 20, 'bca', 85])\n",
      "dict_items([('name', 'John Doe'), ('age', 20), ('course', 'bca'), ('marks', 85)])\n"
     ]
    }
   ],
   "source": [
    "info = dict(name = \"John Doe\" , age = 20, course='bca')\n",
    "print(info)\n",
    "print(info['name']) # Accessing value using key\n",
    "print(info['age'])  # Accessing value using key\n",
    "info['marks'] = 85  # Updating value\n",
    "print(info['marks'])  # Accessing updated value\n",
    "print (info)\n",
    "print(info.keys())  # Getting all keys\n",
    "print(info.values())  # Getting all values\n",
    "print(info.items())  # Getting all key-value pairs"
   ]
  },
  {
   "cell_type": "markdown",
   "id": "c816fbf1",
   "metadata": {},
   "source": [
    "#### loops in dictionary"
   ]
  },
  {
   "cell_type": "code",
   "execution_count": 19,
   "id": "27af94ed",
   "metadata": {},
   "outputs": [
    {
     "name": "stdout",
     "output_type": "stream",
     "text": [
      "name: John Doe\n",
      "age: 20\n",
      "city: New York\n"
     ]
    }
   ],
   "source": [
    "student = {\n",
    "    \"name\": \"John Doe\",\n",
    "    \"age\": 20,\n",
    "    \"city\": \"New York\"\n",
    "}\n",
    "# # Accessing values using keys\n",
    "for k, v in student.items():\n",
    "    print(f\"{k}: {v}\")  # Accessing key-value pairs"
   ]
  },
  {
   "cell_type": "code",
   "execution_count": null,
   "id": "0adfc754",
   "metadata": {},
   "outputs": [
    {
     "name": "stdout",
     "output_type": "stream",
     "text": [
      "{'employee1': {'name': 'Alice', 'age': 30, 'department': 'HR'}, 'employee2': {'name': 'Bob', 'age': 25, 'department': 'IT'}, 'employee3': {'name': 'Charlie', 'age': 28, 'department': 'Finance'}}\n",
      "{'employee1': {'age': 30, 'department': 'HR', 'name': 'Alice'},\n",
      " 'employee2': {'age': 25, 'department': 'IT', 'name': 'Bob'},\n",
      " 'employee3': {'age': 28, 'department': 'Finance', 'name': 'Charlie'}}\n"
     ]
    }
   ],
   "source": [
    "company = {\n",
    "    'employee1': {\n",
    "        'name': 'Alice',\n",
    "        'age': 30,\n",
    "        'department': 'HR'},\n",
    "    'employee2': {\n",
    "        'name': 'Bob',\n",
    "        'age': 25,\n",
    "        'department': 'IT'},\n",
    "    'employee3': {\n",
    "        'name': 'Charlie',\n",
    "        'age': 28,\n",
    "        'department': 'Finance'}\n",
    "}\n",
    "print(company)\n",
    "from pprint import pprint # Using pprint for better readability pprint is a module that provides a capability to \"pretty-print\" arbitrary Python data structures in a format that can be used as input to the interpreter.\n",
    "pprint(company)"
   ]
  },
  {
   "cell_type": "code",
   "execution_count": 23,
   "id": "f7d76287",
   "metadata": {},
   "outputs": [
    {
     "name": "stdout",
     "output_type": "stream",
     "text": [
      "Alice\n",
      "25\n"
     ]
    }
   ],
   "source": [
    "print(company['employee1']['name'])  # Accessing nested value\n",
    "print(company['employee2']['age'])   # Accessing nested value"
   ]
  },
  {
   "cell_type": "markdown",
   "id": "8257bf32",
   "metadata": {},
   "source": [
    "#### calculate average age of all employees"
   ]
  },
  {
   "cell_type": "code",
   "execution_count": 25,
   "id": "0da9a9ed",
   "metadata": {},
   "outputs": [
    {
     "name": "stdout",
     "output_type": "stream",
     "text": [
      "Average age of all employees: 27.666666666666668\n"
     ]
    }
   ],
   "source": [
    "sum = (company['employee1']['age']) + (company['employee2']['age']) + (company['employee3']['age'])\n",
    "average_age = sum / 3\n",
    "print(f\"Average age of all employees: {average_age}\")"
   ]
  }
 ],
 "metadata": {
  "kernelspec": {
   "display_name": "base",
   "language": "python",
   "name": "python3"
  },
  "language_info": {
   "codemirror_mode": {
    "name": "ipython",
    "version": 3
   },
   "file_extension": ".py",
   "mimetype": "text/x-python",
   "name": "python",
   "nbconvert_exporter": "python",
   "pygments_lexer": "ipython3",
   "version": "3.13.2"
  }
 },
 "nbformat": 4,
 "nbformat_minor": 5
}
