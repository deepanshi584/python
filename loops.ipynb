{
 "cells": [
  {
   "cell_type": "markdown",
   "id": "f0c5f2fa",
   "metadata": {},
   "source": [
    "## for loop"
   ]
  },
  {
   "cell_type": "code",
   "execution_count": 5,
   "id": "e69a940f",
   "metadata": {},
   "outputs": [
    {
     "name": "stdout",
     "output_type": "stream",
     "text": [
      "apple banana cherry "
     ]
    }
   ],
   "source": [
    "list = [\"apple\", \"banana\", \"cherry\"]\n",
    "# for i in range(len(list)):\n",
    "#     print(\"Index:\", i, \"Value:\", list[i])\n",
    "# for item in list:\n",
    "#     print(\"Item:\", item)\n",
    "# for index, item in enumerate(list):\n",
    "#     print(\"Index:\", index, \"Item:\", item)\n",
    "for i in list:\n",
    "    print(i, end=' ')"
   ]
  },
  {
   "cell_type": "code",
   "execution_count": 6,
   "id": "4aeeac32",
   "metadata": {},
   "outputs": [
    {
     "name": "stdout",
     "output_type": "stream",
     "text": [
      "0 1 2 3 4 "
     ]
    }
   ],
   "source": [
    "for i in range(5):\n",
    "    print(i, end=' ')"
   ]
  },
  {
   "cell_type": "code",
   "execution_count": 7,
   "id": "f6c4f386",
   "metadata": {},
   "outputs": [
    {
     "name": "stdout",
     "output_type": "stream",
     "text": [
      "1 2 3 4 "
     ]
    }
   ],
   "source": [
    "for i in range( 1 , 5):\n",
    "    print(i, end=' ')"
   ]
  },
  {
   "cell_type": "code",
   "execution_count": 8,
   "id": "3594c1fa",
   "metadata": {},
   "outputs": [
    {
     "name": "stdout",
     "output_type": "stream",
     "text": [
      "5 7 9 11 13 15 "
     ]
    }
   ],
   "source": [
    "for i in range(5 , 16, 2):\n",
    "    print(i, end=' ')"
   ]
  },
  {
   "cell_type": "markdown",
   "id": "13dc5a9e",
   "metadata": {},
   "source": [
    "#### print even numbers in range 2 to 20 using conditions"
   ]
  },
  {
   "cell_type": "code",
   "execution_count": 11,
   "id": "b540fb02",
   "metadata": {},
   "outputs": [
    {
     "name": "stdout",
     "output_type": "stream",
     "text": [
      "2\n",
      "4\n",
      "6\n",
      "8\n",
      "10\n",
      "12\n",
      "14\n",
      "16\n",
      "18\n",
      "20\n"
     ]
    }
   ],
   "source": [
    "for i in range(2,21):\n",
    "    if i % 2 == 0:\n",
    "        print(i)"
   ]
  },
  {
   "cell_type": "markdown",
   "id": "08eec29f",
   "metadata": {},
   "source": [
    "#### print odd numbers in range 2 to 20 without using condition"
   ]
  },
  {
   "cell_type": "code",
   "execution_count": 10,
   "id": "f953b1fe",
   "metadata": {},
   "outputs": [
    {
     "name": "stdout",
     "output_type": "stream",
     "text": [
      "3\n",
      "5\n",
      "7\n",
      "9\n",
      "11\n",
      "13\n",
      "15\n",
      "17\n",
      "19\n"
     ]
    }
   ],
   "source": [
    "for i in range(2,20,2):\n",
    "    print(i+1)"
   ]
  },
  {
   "cell_type": "markdown",
   "id": "5dc28c25",
   "metadata": {},
   "source": [
    "## while loop"
   ]
  },
  {
   "cell_type": "code",
   "execution_count": 13,
   "id": "52134eaa",
   "metadata": {},
   "outputs": [
    {
     "name": "stdout",
     "output_type": "stream",
     "text": [
      "1 3 5 "
     ]
    }
   ],
   "source": [
    "i=1\n",
    "while i <= 5:\n",
    "    print(i, end=' ')\n",
    "    # i += 1\n",
    "    i +=2"
   ]
  },
  {
   "cell_type": "code",
   "execution_count": 16,
   "id": "ee27f033",
   "metadata": {},
   "outputs": [
    {
     "name": "stdout",
     "output_type": "stream",
     "text": [
      "1 3 5 7 9 11 13 15 17 19 "
     ]
    }
   ],
   "source": [
    "i = 1\n",
    "while i <= 20:\n",
    "    print(i, end=' ')\n",
    "    i += 2"
   ]
  },
  {
   "cell_type": "markdown",
   "id": "a49150fd",
   "metadata": {},
   "source": [
    "### even numbers"
   ]
  },
  {
   "cell_type": "code",
   "execution_count": 14,
   "id": "3d9e689d",
   "metadata": {},
   "outputs": [
    {
     "name": "stdout",
     "output_type": "stream",
     "text": [
      "2 4 6 8 10 12 14 16 18 20 "
     ]
    }
   ],
   "source": [
    "i=2\n",
    "while i <= 20:\n",
    "    if i % 2 == 0:\n",
    "        print(i, end=' ')\n",
    "    i += 1"
   ]
  },
  {
   "cell_type": "markdown",
   "id": "c086cd0a",
   "metadata": {},
   "source": [
    "#### odd numbers"
   ]
  },
  {
   "cell_type": "code",
   "execution_count": 15,
   "id": "68df64bb",
   "metadata": {},
   "outputs": [
    {
     "name": "stdout",
     "output_type": "stream",
     "text": [
      "3 5 7 9 11 13 15 17 19 "
     ]
    }
   ],
   "source": [
    "i=2\n",
    "while i <= 20:\n",
    "    if i % 2 != 0:\n",
    "        print(i, end=' ')\n",
    "    i += 1"
   ]
  },
  {
   "cell_type": "code",
   "execution_count": null,
   "id": "0f237161",
   "metadata": {},
   "outputs": [
    {
     "name": "stdout",
     "output_type": "stream",
     "text": [
      "apple\n",
      "banana\n",
      "cherry\n",
      "orange\n",
      "kiwi\n",
      "melon\n",
      "mango\n"
     ]
    }
   ],
   "source": [
    "list = [\"apple\", \"banana\", \"cherry\", \"orange\", \"kiwi\", \"melon\", \"mango\"]\n",
    "i = 0\n",
    "while i < len(list):\n",
    "    print( \n",
    "         list[i])\n",
    "    i += 1"
   ]
  },
  {
   "cell_type": "markdown",
   "id": "22817930",
   "metadata": {},
   "source": [
    "#### break and continue"
   ]
  },
  {
   "cell_type": "code",
   "execution_count": null,
   "id": "215b066d",
   "metadata": {},
   "outputs": [
    {
     "name": "stdout",
     "output_type": "stream",
     "text": [
      "apple banana apple\n",
      "cherry\n"
     ]
    }
   ],
   "source": [
    "list = [\"apple\", \"banana\", \"cherry\"]\n",
    "for i in list:\n",
    "    print(i, end=' ')\n",
    "    if i == \"banana\":\n",
    "        break\n",
    "\n"
   ]
  },
  {
   "cell_type": "code",
   "execution_count": 28,
   "id": "94a077d9",
   "metadata": {},
   "outputs": [
    {
     "name": "stdout",
     "output_type": "stream",
     "text": [
      "apple\n",
      "cherry\n"
     ]
    }
   ],
   "source": [
    "for i in list:\n",
    "    if i == \"banana\":\n",
    "        continue\n",
    "    print(i)"
   ]
  },
  {
   "cell_type": "markdown",
   "id": "9bea877b",
   "metadata": {},
   "source": [
    "### wap to print the multiplication table of a given number using while loop"
   ]
  },
  {
   "cell_type": "code",
   "execution_count": 29,
   "id": "f004d3bd",
   "metadata": {},
   "outputs": [
    {
     "name": "stdout",
     "output_type": "stream",
     "text": [
      "6\n",
      "12\n",
      "18\n",
      "24\n",
      "30\n",
      "36\n",
      "42\n",
      "48\n",
      "54\n",
      "60\n"
     ]
    }
   ],
   "source": [
    "num = int(input(\"Enter a number: \"))\n",
    "i = 1\n",
    "while i <= 10:\n",
    "    print(num*i)\n",
    "    i += 1"
   ]
  },
  {
   "cell_type": "markdown",
   "id": "6bac7491",
   "metadata": {},
   "source": [
    "#### wap to find the sum of all even numbers b/w 1 to 100 using for loop"
   ]
  },
  {
   "cell_type": "code",
   "execution_count": 31,
   "id": "ff171cc4",
   "metadata": {},
   "outputs": [
    {
     "name": "stdout",
     "output_type": "stream",
     "text": [
      "Sum of all even numbers between 1 and 100 is: 2550\n"
     ]
    }
   ],
   "source": [
    "sum = 0\n",
    "for i in range(1, 101):\n",
    "    if i % 2 == 0:\n",
    "        sum += i\n",
    "print(\"Sum of all even numbers between 1 and 100 is:\", sum)\n",
    "   "
   ]
  }
 ],
 "metadata": {
  "kernelspec": {
   "display_name": "base",
   "language": "python",
   "name": "python3"
  },
  "language_info": {
   "codemirror_mode": {
    "name": "ipython",
    "version": 3
   },
   "file_extension": ".py",
   "mimetype": "text/x-python",
   "name": "python",
   "nbconvert_exporter": "python",
   "pygments_lexer": "ipython3",
   "version": "3.13.2"
  }
 },
 "nbformat": 4,
 "nbformat_minor": 5
}
